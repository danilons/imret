{
 "cells": [
  {
   "cell_type": "code",
   "execution_count": 1,
   "metadata": {
    "collapsed": true
   },
   "outputs": [],
   "source": [
    "from imret.dataset import Dataset\n",
    "from imret.color import ColorPalette"
   ]
  },
  {
   "cell_type": "code",
   "execution_count": 2,
   "metadata": {
    "collapsed": false
   },
   "outputs": [],
   "source": [
    "dset = Dataset('../data/datasets/', 'train', '../data/images/')"
   ]
  },
  {
   "cell_type": "code",
   "execution_count": 3,
   "metadata": {
    "collapsed": false
   },
   "outputs": [],
   "source": [
    "cp = ColorPalette(name_conversion='../data/query/name_conversion.csv')"
   ]
  },
  {
   "cell_type": "code",
   "execution_count": 68,
   "metadata": {
    "collapsed": false
   },
   "outputs": [],
   "source": [
    "objs = {img: filter(lambda x: x in cp, dset.ground_truth_objects(img)) for img in dset.images}"
   ]
  },
  {
   "cell_type": "code",
   "execution_count": 11,
   "metadata": {
    "collapsed": false
   },
   "outputs": [],
   "source": [
    "import graphviz as gv\n",
    "import itertools"
   ]
  },
  {
   "cell_type": "code",
   "execution_count": 82,
   "metadata": {
    "collapsed": false
   },
   "outputs": [],
   "source": [
    "nodes = set()\n",
    "edges = {}\n",
    "connections = {}\n",
    "\n",
    "for k, obj in objs.items():\n",
    "    for node in obj:\n",
    "        node = 'car' if node == 'cars' else node\n",
    "        node = 'rock' if node == 'rocks' else node\n",
    "        node = 'flower' if node == 'flowers' else node\n",
    "        \n",
    "        if node not in nodes: \n",
    "            nodes.add(node)\n",
    "        \n",
    "    for node1, node2 in itertools.combinations(obj, 2):\n",
    "        node1 = 'car' if node1 == 'cars' else node1\n",
    "        node1 = 'rock' if node1 == 'rocks' else node1\n",
    "        node1 = 'flower' if node1 == 'flowers' else node1\n",
    "        \n",
    "        node2 = 'car' if node2 == 'cars' else node2\n",
    "        node2 = 'rock' if node2 == 'rocks' else node2\n",
    "        node2 = 'flower' if node2 == 'flowers' else node2\n",
    "        \n",
    "        \n",
    "        if node1+node2 not in edges and node2+node2 not in edges:\n",
    "            edges.setdefault(node1, []).append(node2)\n",
    "            edges.setdefault(node2, []).append(node1)\n",
    "            \n",
    "            connections.setdefault(node1, []).append((k, node2))\n",
    "            connections.setdefault(node2, []).append((k, node1))"
   ]
  },
  {
   "cell_type": "code",
   "execution_count": 81,
   "metadata": {
    "collapsed": false
   },
   "outputs": [
    {
     "name": "stdout",
     "output_type": "stream",
     "text": [
      "img/g1.gv.pdf\n"
     ]
    }
   ],
   "source": []
  },
  {
   "cell_type": "code",
   "execution_count": 71,
   "metadata": {
    "collapsed": false
   },
   "outputs": [
    {
     "data": {
      "text/plain": [
       "(42, 42, 42)"
      ]
     },
     "execution_count": 71,
     "metadata": {},
     "output_type": "execute_result"
    }
   ],
   "source": [
    "len(edges), len(nodes), len(connections)"
   ]
  },
  {
   "cell_type": "code",
   "execution_count": 75,
   "metadata": {
    "collapsed": false
   },
   "outputs": [
    {
     "data": {
      "text/plain": [
       "Counter({u'armchair': 1,\n",
       "         u'balcony': 1,\n",
       "         u'books': 1,\n",
       "         u'box': 1,\n",
       "         u'building': 26,\n",
       "         u'car': 24,\n",
       "         u'door': 2,\n",
       "         u'fence': 4,\n",
       "         u'floor': 3,\n",
       "         u'grass': 8,\n",
       "         u'ground': 2,\n",
       "         u'plant': 1,\n",
       "         u'road': 29,\n",
       "         u'sign': 3,\n",
       "         u'sky': 33,\n",
       "         u'streetlight': 2,\n",
       "         u'table': 1,\n",
       "         u'tree': 11,\n",
       "         u'van': 5,\n",
       "         u'wall': 4,\n",
       "         u'water': 1,\n",
       "         u'window': 4})"
      ]
     },
     "execution_count": 75,
     "metadata": {},
     "output_type": "execute_result"
    }
   ],
   "source": [
    "import collections\n",
    "collections.Counter(edges['airplane'])"
   ]
  },
  {
   "cell_type": "code",
   "execution_count": 149,
   "metadata": {
    "collapsed": false
   },
   "outputs": [
    {
     "name": "stdout",
     "output_type": "stream",
     "text": [
      "img/g1.png\n"
     ]
    }
   ],
   "source": [
    "pair = {}\n",
    "g1 = gv.Graph(format='png')\n",
    "scene_ = 0\n",
    "blacklist = ['floor']\n",
    "for node in nodes:\n",
    "    if scene_objects[node] != scene_:\n",
    "        continue\n",
    "    g1.node(node)\n",
    "\n",
    "for node, edge in edges.items():\n",
    "    if scene_objects[node] != scene_:\n",
    "        continue\n",
    "        \n",
    "    if node not in edges:\n",
    "        continue\n",
    "        \n",
    "    edge = edges[node]\n",
    "    freq = collections.Counter(edge)\n",
    "    for obj, counter in freq.items():\n",
    "        if obj in blacklist:\n",
    "            continue \n",
    "            \n",
    "        if scene_objects[obj] != scene_:\n",
    "            continue\n",
    "        \n",
    "        if counter > 10 and not pair.get(tuple((node, obj))):\n",
    "            g1.edge(node, obj)\n",
    "            pair[tuple((node, obj))] = True\n",
    "            pair[tuple((obj, node))] = True\n",
    "            \n",
    "filename = g1.render(filename='img/g1')\n",
    "print filename"
   ]
  },
  {
   "cell_type": "code",
   "execution_count": 99,
   "metadata": {
    "collapsed": false
   },
   "outputs": [],
   "source": [
    "frequencies = {}\n",
    "for node, edge in edges.items():\n",
    "    freq = collections.Counter(edge)\n",
    "    frequencies[node] = len(freq)"
   ]
  },
  {
   "cell_type": "code",
   "execution_count": 102,
   "metadata": {
    "collapsed": false
   },
   "outputs": [
    {
     "name": "stdout",
     "output_type": "stream",
     "text": [
      "wall                : 41\n",
      "floor               : 41\n",
      "window              : 41\n",
      "plant               : 41\n",
      "table               : 40\n",
      "door                : 40\n",
      "chair               : 39\n",
      "sign                : 38\n",
      "tree                : 38\n",
      "flower              : 37\n",
      "box                 : 37\n",
      "sky                 : 35\n",
      "poster              : 35\n",
      "grass               : 35\n",
      "bench               : 34\n",
      "vase                : 34\n",
      "building            : 33\n",
      "fence               : 32\n",
      "mirror              : 31\n",
      "curtain             : 31\n",
      "road                : 30\n",
      "armchair            : 29\n",
      "books               : 29\n",
      "ground              : 29\n",
      "car                 : 28\n",
      "bottle              : 28\n",
      "basket              : 28\n",
      "streetlight         : 27\n",
      "balcony             : 27\n",
      "cupboard            : 26\n",
      "seats               : 25\n",
      "desk                : 25\n",
      "water               : 24\n",
      "bookcase            : 24\n",
      "coffee table        : 24\n",
      "van                 : 23\n",
      "gate                : 23\n",
      "path                : 23\n",
      "airplane            : 22\n",
      "closet              : 21\n",
      "rock                : 20\n",
      "refrigerator        : 18\n"
     ]
    }
   ],
   "source": [
    "for node, freq in sorted(frequencies.items(), key=lambda x: x[1], reverse=True):\n",
    "    print u\"{:20s}: {}\".format(node, freq)"
   ]
  },
  {
   "cell_type": "code",
   "execution_count": 1,
   "metadata": {
    "collapsed": false
   },
   "outputs": [],
   "source": [
    "scenes_labels = {0: \"outdoor\", 1: \"indoor\"}\n",
    "indoor_scenes = [(1, \"wall\"),\n",
    "                (1, \"floor\"),\n",
    "                (2, \"window\"),\n",
    "                (1, \"plant\"),\n",
    "                (1, \"table\"),\n",
    "                (0, \"door\"),\n",
    "                (2, \"chair\"),\n",
    "                (0, \"sign\"),\n",
    "                (0, \"tree\"),\n",
    "                (1, \"flower\"),\n",
    "                (1, \"box\"),\n",
    "                (0, \"sky\"),\n",
    "                (1, \"poster\"),\n",
    "                (0, \"grass\"),\n",
    "                (0, \"bench\"),\n",
    "                (1, \"vase\"),\n",
    "                (0, \"building\"),\n",
    "                (0, \"fence\"),\n",
    "                (1, \"mirror\"),\n",
    "                (1, \"curtain\"),\n",
    "                (0, \"road\"),\n",
    "                (1, \"armchair\"),\n",
    "                (1, \"books\"),\n",
    "                (2, \"ground\"),\n",
    "                (0, \"car\"),\n",
    "                (1, \"bottle\"),\n",
    "                (1, \"basket\"),\n",
    "                (0, \"streetlight\"),\n",
    "                (0, \"balcony\"),\n",
    "                (1, \"cupboard\"),\n",
    "                (2, \"seats\"),\n",
    "                (1, \"desk\"),\n",
    "                (0, \"water\"),\n",
    "                (1, \"bookcase\"),\n",
    "                (1, \"coffee table\"),\n",
    "                (0, \"van\"),\n",
    "                (0, \"gate\"),\n",
    "                (0, \"path\"),\n",
    "                (0, \"airplane\"),\n",
    "                (1, \"closet\"),\n",
    "                (0, \"rock\"),\n",
    "                (1, \"refrigerator\")]\n",
    "\n",
    "scene_objects = {v:k for k, v in indoor_scenes}"
   ]
  },
  {
   "cell_type": "code",
   "execution_count": 3,
   "metadata": {
    "collapsed": false
   },
   "outputs": [
    {
     "data": {
      "text/plain": [
       "Counter({0: 17, 1: 18, 2: 7})"
      ]
     },
     "execution_count": 3,
     "metadata": {},
     "output_type": "execute_result"
    }
   ],
   "source": [
    "import collections\n",
    "collections.Counter(scene_objects.values())"
   ]
  },
  {
   "cell_type": "code",
   "execution_count": 141,
   "metadata": {
    "collapsed": false
   },
   "outputs": [
    {
     "name": "stdout",
     "output_type": "stream",
     "text": [
      "a_aircraft_carrier_aircraft_carrier_02.jpg\n",
      "a_aircraft_carrier_aircraft_carrier_10.jpg\n",
      "a_aircraft_carrier_aircraft_carrier_47.jpg\n",
      "a_aquarium_116904005_fdf5269719.jpg\n",
      "a_archipelago_archipelago_000257.jpg\n",
      "b_bakery_bakery_32_04_yahoo.jpg\n",
      "b_bakery_boulangerie_06_16_yahoo.jpg\n",
      "b_bakery_boulangerie_16_09_yahoo.jpg\n",
      "b_bakery_panaderia_06_08_yahoo.jpg\n",
      "b_ball_pit_2006_06_ballpit.jpg\n",
      "b_ball_pit_dscn0061_b.jpg\n",
      "b_bambouserie_44200_bamboo_forest2.jpg\n",
      "b_bathroom_pittsburgh_IMG_4083.jpg\n",
      "c_casino_indoor_casino_0018.jpg\n",
      "c_catacomb_catacomb_000048.jpg\n",
      "c_catacomb_catacomb_000172.jpg\n",
      "c_catacomb_catacomb_000176.jpg\n",
      "c_cavern_indoor_865postojna_grotte_41.jpg\n",
      "f_farmers_market_farmers_market_000127.jpg\n",
      "f_fireroom_fireroom_000249.jpg\n",
      "h_hayloft_hayloft_000005.jpg\n",
      "i_ice_field_ice_field_000104.jpg\n",
      "i_ice_field_ice_field_000111.jpg\n",
      "i_ice_floe_floe_000220.jpg\n",
      "i_ice_floe_floe_000310.jpg\n",
      "i_ice_floe_ice_floe_000048.jpg\n",
      "i_ice_floe_ice_floe_000100.jpg\n",
      "l_ledge_ledge_000045.jpg\n",
      "m_mens_store_indoor_mens_store_000192.jpg\n",
      "m_mountain_mountain_n199074.jpg\n",
      "m_mountain_mountain_n347078.jpg\n",
      "m_mountain_snowy_mountain_n295039.jpg\n",
      "m_mountain_snowy_mountain_n44004.jpg\n",
      "m_mountain_tent_mountain_tent_000020.jpg\n",
      "o_outfield_outfield_000594.jpg\n",
      "r_rotisserie_rotisserie_000019.jpg\n",
      "r_rotisserie_rotisserie_000199.jpg\n",
      "s_sandbox_sandbox_000126.jpg\n",
      "s_sauna_sauna_800.jpg\n",
      "s_sepulcher_sepulcher_000012.jpg\n",
      "s_shipyard_shipyard_000402.jpg\n",
      "s_shore_shore_000014.jpg\n",
      "t_toyshop_jugueteria_09_24_flickr.jpg\n",
      "v_vinery_az_vinery.jpg\n",
      "v_volcano_havo_kilaueavolcano_b.jpg\n",
      "w_wheat_field_2190074166_0ac0d0bcbb.jpg\n"
     ]
    }
   ],
   "source": [
    "scene_images ={}\n",
    "for img in dset.images:\n",
    "    totals = collections.Counter([scene_objects[obj.replace('cars', 'car').replace('rocks', 'rock').replace('flowers', 'flower')] \n",
    "                                  for obj in objs[img]]).most_common()\n",
    "    try:\n",
    "        scene, _ = totals[0]\n",
    "        scene_images[img] = scenes_labels[scene]\n",
    "    except IndexError:\n",
    "        print(img)"
   ]
  },
  {
   "cell_type": "code",
   "execution_count": 176,
   "metadata": {
    "collapsed": false
   },
   "outputs": [],
   "source": [
    "import os\n",
    "for image, label in scene_images.items():\n",
    "    os.symlink(os.path.join(\"/Users/danilonunes/workspace/imret2/data/images/\", image), \n",
    "               os.path.join(\"/Users/danilonunes/workspace/imret2/data/scene/\", label, image))"
   ]
  },
  {
   "cell_type": "code",
   "execution_count": 165,
   "metadata": {
    "collapsed": false
   },
   "outputs": [
    {
     "data": {
      "text/plain": [
       "u'../data/images/b_bathroom_indoor_0404.jpg'"
      ]
     },
     "execution_count": 165,
     "metadata": {},
     "output_type": "execute_result"
    }
   ],
   "source": [
    "os.path.join(\"../data/images/\", image)"
   ]
  },
  {
   "cell_type": "code",
   "execution_count": 166,
   "metadata": {
    "collapsed": false
   },
   "outputs": [
    {
     "name": "stdout",
     "output_type": "stream",
     "text": [
      "../data/images/b_bathroom_indoor_0404.jpg\r\n"
     ]
    }
   ],
   "source": [
    "!ls ../data/images/b_bathroom_indoor_0404.jpg"
   ]
  },
  {
   "cell_type": "code",
   "execution_count": 167,
   "metadata": {
    "collapsed": false
   },
   "outputs": [
    {
     "data": {
      "text/plain": [
       "u'../data/scene/indoor/b_bathroom_indoor_0404.jpg'"
      ]
     },
     "execution_count": 167,
     "metadata": {},
     "output_type": "execute_result"
    }
   ],
   "source": [
    "os.path.join(\"../data/scene/\", label, image)"
   ]
  },
  {
   "cell_type": "code",
   "execution_count": 169,
   "metadata": {
    "collapsed": false
   },
   "outputs": [
    {
     "name": "stdout",
     "output_type": "stream",
     "text": [
      "lrwxr-xr-x  1 danilonunes  staff  41 Aug 19 18:01 \u001b[35m../data/scene/indoor/b_bathroom_indoor_0404.jpg\u001b[m\u001b[m@ -> ../data/images/b_bathroom_indoor_0404.jpg\r\n"
     ]
    }
   ],
   "source": [
    "ls -la ../data/scene/indoor/b_bathroom_indoor_0404.jpg"
   ]
  },
  {
   "cell_type": "code",
   "execution_count": null,
   "metadata": {
    "collapsed": true
   },
   "outputs": [],
   "source": [
    "\"/Users/danilonunes/workspace/imret2/data/images/\""
   ]
  }
 ],
 "metadata": {
  "kernelspec": {
   "display_name": "Python 2",
   "language": "python",
   "name": "python2"
  },
  "language_info": {
   "codemirror_mode": {
    "name": "ipython",
    "version": 2
   },
   "file_extension": ".py",
   "mimetype": "text/x-python",
   "name": "python",
   "nbconvert_exporter": "python",
   "pygments_lexer": "ipython2",
   "version": "2.7.13"
  }
 },
 "nbformat": 4,
 "nbformat_minor": 0
}
