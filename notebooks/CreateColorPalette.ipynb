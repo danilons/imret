{
 "cells": [
  {
   "cell_type": "code",
   "execution_count": 1,
   "metadata": {
    "collapsed": true
   },
   "outputs": [],
   "source": [
    "from imret.query import Annotation"
   ]
  },
  {
   "cell_type": "code",
   "execution_count": 2,
   "metadata": {
    "collapsed": true
   },
   "outputs": [],
   "source": [
    "annot = Annotation('../data/query/train_anno/')"
   ]
  },
  {
   "cell_type": "code",
   "execution_count": 3,
   "metadata": {
    "collapsed": false
   },
   "outputs": [
    {
     "data": {
      "text/plain": [
       "['fence',\n",
       " 'wall',\n",
       " 'armchair',\n",
       " 'seats',\n",
       " 'sign',\n",
       " 'books',\n",
       " 'mirror',\n",
       " 'table',\n",
       " 'chair',\n",
       " 'airplane',\n",
       " 'balcony',\n",
       " 'van',\n",
       " 'closet',\n",
       " 'floor',\n",
       " 'sky',\n",
       " 'bench',\n",
       " 'window',\n",
       " 'cars',\n",
       " 'streetlight',\n",
       " 'gate',\n",
       " 'ground',\n",
       " 'building',\n",
       " 'plant',\n",
       " 'door',\n",
       " 'poster',\n",
       " 'cupboard',\n",
       " 'vase',\n",
       " 'water',\n",
       " 'bookcase',\n",
       " 'desk',\n",
       " 'path',\n",
       " 'flowers',\n",
       " 'refrigerator',\n",
       " 'box',\n",
       " 'curtain',\n",
       " 'tree',\n",
       " 'rocks',\n",
       " 'bottle',\n",
       " 'car',\n",
       " 'basket',\n",
       " 'grass',\n",
       " 'road']"
      ]
     },
     "execution_count": 3,
     "metadata": {},
     "output_type": "execute_result"
    }
   ],
   "source": [
    "annot.names"
   ]
  },
  {
   "cell_type": "code",
   "execution_count": 27,
   "metadata": {
    "collapsed": true
   },
   "outputs": [],
   "source": [
    "names = {name: name if name != 'cars' else 'car' for name in annot.names}"
   ]
  },
  {
   "cell_type": "code",
   "execution_count": 28,
   "metadata": {
    "collapsed": false
   },
   "outputs": [],
   "source": [
    "import pandas as pd"
   ]
  },
  {
   "cell_type": "code",
   "execution_count": 29,
   "metadata": {
    "collapsed": true
   },
   "outputs": [],
   "source": [
    "df = pd.DataFrame(names.items(), columns=['Class', 'Name'])"
   ]
  },
  {
   "cell_type": "code",
   "execution_count": 30,
   "metadata": {
    "collapsed": false
   },
   "outputs": [
    {
     "data": {
      "text/html": [
       "<div>\n",
       "<table border=\"1\" class=\"dataframe\">\n",
       "  <thead>\n",
       "    <tr style=\"text-align: right;\">\n",
       "      <th></th>\n",
       "      <th>Class</th>\n",
       "      <th>Name</th>\n",
       "    </tr>\n",
       "  </thead>\n",
       "  <tbody>\n",
       "    <tr>\n",
       "      <th>0</th>\n",
       "      <td>fence</td>\n",
       "      <td>fence</td>\n",
       "    </tr>\n",
       "    <tr>\n",
       "      <th>1</th>\n",
       "      <td>wall</td>\n",
       "      <td>wall</td>\n",
       "    </tr>\n",
       "    <tr>\n",
       "      <th>2</th>\n",
       "      <td>armchair</td>\n",
       "      <td>armchair</td>\n",
       "    </tr>\n",
       "    <tr>\n",
       "      <th>3</th>\n",
       "      <td>seats</td>\n",
       "      <td>seats</td>\n",
       "    </tr>\n",
       "    <tr>\n",
       "      <th>4</th>\n",
       "      <td>sign</td>\n",
       "      <td>sign</td>\n",
       "    </tr>\n",
       "  </tbody>\n",
       "</table>\n",
       "</div>"
      ],
      "text/plain": [
       "      Class      Name\n",
       "0     fence     fence\n",
       "1      wall      wall\n",
       "2  armchair  armchair\n",
       "3     seats     seats\n",
       "4      sign      sign"
      ]
     },
     "execution_count": 30,
     "metadata": {},
     "output_type": "execute_result"
    }
   ],
   "source": [
    "df.head()"
   ]
  },
  {
   "cell_type": "code",
   "execution_count": 48,
   "metadata": {
    "collapsed": true
   },
   "outputs": [],
   "source": [
    "df.to_csv('../data/query/name_conversion.csv', index=False)"
   ]
  },
  {
   "cell_type": "code",
   "execution_count": 65,
   "metadata": {
    "collapsed": true
   },
   "outputs": [],
   "source": [
    "from imret.color import ColorPalette"
   ]
  },
  {
   "cell_type": "code",
   "execution_count": 66,
   "metadata": {
    "collapsed": false
   },
   "outputs": [],
   "source": [
    "cp = ColorPalette(name_conversion='../data/query/name_conversion.csv')"
   ]
  },
  {
   "cell_type": "code",
   "execution_count": 57,
   "metadata": {
    "collapsed": false
   },
   "outputs": [
    {
     "data": {
      "text/plain": [
       "42"
      ]
     },
     "execution_count": 57,
     "metadata": {},
     "output_type": "execute_result"
    }
   ],
   "source": [
    "len(cp.names)"
   ]
  },
  {
   "cell_type": "code",
   "execution_count": 58,
   "metadata": {
    "collapsed": false
   },
   "outputs": [
    {
     "data": {
      "text/html": [
       "<div>\n",
       "<table border=\"1\" class=\"dataframe\">\n",
       "  <thead>\n",
       "    <tr style=\"text-align: right;\">\n",
       "      <th></th>\n",
       "      <th>Idx</th>\n",
       "      <th>Ratio</th>\n",
       "      <th>Train</th>\n",
       "      <th>Val</th>\n",
       "      <th>Name</th>\n",
       "    </tr>\n",
       "  </thead>\n",
       "  <tbody>\n",
       "    <tr>\n",
       "      <th>0</th>\n",
       "      <td>1</td>\n",
       "      <td>0.1576</td>\n",
       "      <td>11664</td>\n",
       "      <td>1172</td>\n",
       "      <td>wall</td>\n",
       "    </tr>\n",
       "    <tr>\n",
       "      <th>1</th>\n",
       "      <td>2</td>\n",
       "      <td>0.1072</td>\n",
       "      <td>6046</td>\n",
       "      <td>612</td>\n",
       "      <td>building, edifice</td>\n",
       "    </tr>\n",
       "    <tr>\n",
       "      <th>2</th>\n",
       "      <td>3</td>\n",
       "      <td>0.0878</td>\n",
       "      <td>8265</td>\n",
       "      <td>796</td>\n",
       "      <td>sky</td>\n",
       "    </tr>\n",
       "    <tr>\n",
       "      <th>3</th>\n",
       "      <td>4</td>\n",
       "      <td>0.0621</td>\n",
       "      <td>9336</td>\n",
       "      <td>917</td>\n",
       "      <td>floor, flooring</td>\n",
       "    </tr>\n",
       "    <tr>\n",
       "      <th>4</th>\n",
       "      <td>5</td>\n",
       "      <td>0.0480</td>\n",
       "      <td>6678</td>\n",
       "      <td>641</td>\n",
       "      <td>tree</td>\n",
       "    </tr>\n",
       "  </tbody>\n",
       "</table>\n",
       "</div>"
      ],
      "text/plain": [
       "   Idx   Ratio  Train   Val               Name\n",
       "0    1  0.1576  11664  1172               wall\n",
       "1    2  0.1072   6046   612  building, edifice\n",
       "2    3  0.0878   8265   796                sky\n",
       "3    4  0.0621   9336   917    floor, flooring\n",
       "4    5  0.0480   6678   641               tree"
      ]
     },
     "execution_count": 58,
     "metadata": {},
     "output_type": "execute_result"
    }
   ],
   "source": [
    "objectInfo = pd.read_csv('../data/model/objectInfo150.txt', sep='\\t')\n",
    "objectInfo.head()"
   ]
  },
  {
   "cell_type": "code",
   "execution_count": 59,
   "metadata": {
    "collapsed": true
   },
   "outputs": [],
   "source": [
    "info = [name.split(',')[0] for name in set(objectInfo.Name)]"
   ]
  },
  {
   "cell_type": "code",
   "execution_count": 60,
   "metadata": {
    "collapsed": false
   },
   "outputs": [],
   "source": [
    "colors = []\n",
    "notfound = []\n",
    "for classname in info:\n",
    "    try:\n",
    "        color = cp[classname]\n",
    "        colors.append(classname)\n",
    "    except ValueError:\n",
    "        notfound.append(classname)"
   ]
  },
  {
   "cell_type": "code",
   "execution_count": 61,
   "metadata": {
    "collapsed": false
   },
   "outputs": [
    {
     "data": {
      "text/plain": [
       "(32, 118)"
      ]
     },
     "execution_count": 61,
     "metadata": {},
     "output_type": "execute_result"
    }
   ],
   "source": [
    "len(colors), len(notfound)"
   ]
  },
  {
   "cell_type": "code",
   "execution_count": 62,
   "metadata": {
    "collapsed": false
   },
   "outputs": [
    {
     "data": {
      "text/plain": [
       "['stove',\n",
       " 'coffee table',\n",
       " 'chest of drawers',\n",
       " 'oven',\n",
       " 'signboard',\n",
       " 'food',\n",
       " 'pool table',\n",
       " 'lake',\n",
       " 'dishwasher',\n",
       " 'skyscraper',\n",
       " 'plate',\n",
       " 'palm',\n",
       " 'radiator',\n",
       " 'wardrobe',\n",
       " 'stairs',\n",
       " 'trade name',\n",
       " 'cushion',\n",
       " 'railing',\n",
       " 'swivel chair',\n",
       " 'blanket',\n",
       " 'towel',\n",
       " 'kitchen island',\n",
       " 'bicycle',\n",
       " 'bag',\n",
       " 'sand',\n",
       " 'tower',\n",
       " 'river',\n",
       " 'tray',\n",
       " 'toilet',\n",
       " 'conveyer belt',\n",
       " 'house',\n",
       " 'seat',\n",
       " 'waterfall',\n",
       " 'bannister',\n",
       " 'sea',\n",
       " 'crt screen',\n",
       " 'hovel',\n",
       " 'monitor',\n",
       " 'rug',\n",
       " 'clock',\n",
       " 'booth',\n",
       " 'stool',\n",
       " 'cradle',\n",
       " 'fountain',\n",
       " 'hill',\n",
       " 'bridge',\n",
       " 'windowpane',\n",
       " 'pier',\n",
       " 'screen',\n",
       " 'sofa',\n",
       " 'sink',\n",
       " 'glass',\n",
       " 'step',\n",
       " 'stage',\n",
       " 'swimming pool',\n",
       " 'hood',\n",
       " 'washer',\n",
       " 'minibike',\n",
       " 'canopy',\n",
       " 'pillow',\n",
       " 'painting',\n",
       " 'column',\n",
       " 'chandelier',\n",
       " 'pole',\n",
       " 'light',\n",
       " 'boat',\n",
       " 'sidewalk',\n",
       " 'grandstand',\n",
       " 'bus',\n",
       " 'truck',\n",
       " 'shower',\n",
       " 'ceiling',\n",
       " 'tent',\n",
       " 'countertop',\n",
       " 'shelf',\n",
       " 'land',\n",
       " 'cabinet',\n",
       " 'awning',\n",
       " 'tank',\n",
       " 'runway',\n",
       " 'stairway',\n",
       " 'apparel',\n",
       " 'mountain',\n",
       " 'arcade machine',\n",
       " 'sculpture',\n",
       " 'pot',\n",
       " 'animal',\n",
       " 'fireplace',\n",
       " 'sconce',\n",
       " 'ottoman',\n",
       " 'television',\n",
       " 'ship',\n",
       " 'bulletin board',\n",
       " 'blind',\n",
       " 'bed ',\n",
       " 'ashcan',\n",
       " 'person',\n",
       " 'field',\n",
       " 'lamp',\n",
       " 'book',\n",
       " 'base',\n",
       " 'ball',\n",
       " 'plaything',\n",
       " 'screen door',\n",
       " 'computer',\n",
       " 'earth',\n",
       " 'barrel',\n",
       " 'bathtub',\n",
       " 'microwave',\n",
       " 'dirt track',\n",
       " 'case',\n",
       " 'bar',\n",
       " 'escalator',\n",
       " 'counter',\n",
       " 'flag',\n",
       " 'traffic light',\n",
       " 'buffet',\n",
       " 'fan']"
      ]
     },
     "execution_count": 62,
     "metadata": {},
     "output_type": "execute_result"
    }
   ],
   "source": [
    "notfound"
   ]
  },
  {
   "cell_type": "code",
   "execution_count": 63,
   "metadata": {
    "collapsed": false
   },
   "outputs": [
    {
     "data": {
      "text/plain": [
       "42"
      ]
     },
     "execution_count": 63,
     "metadata": {},
     "output_type": "execute_result"
    }
   ],
   "source": [
    "len(cp.names)"
   ]
  },
  {
   "cell_type": "code",
   "execution_count": 69,
   "metadata": {
    "collapsed": true
   },
   "outputs": [],
   "source": [
    "cp.save('../data/imgs/labels.txt')"
   ]
  },
  {
   "cell_type": "code",
   "execution_count": 72,
   "metadata": {
    "collapsed": false
   },
   "outputs": [],
   "source": [
    "with open('../data/imgs/palette.txt', 'w') as fp:\n",
    "    for name in cp.names:\n",
    "        r, g, b = cp[name]\n",
    "        fp.write(\"{} {} {} \\n\".format(r, g, b))"
   ]
  },
  {
   "cell_type": "code",
   "execution_count": 73,
   "metadata": {
    "collapsed": false
   },
   "outputs": [
    {
     "name": "stdout",
     "output_type": "stream",
     "text": [
      "0 0 0 \r\n",
      "128 0 0 \r\n",
      "0 128 0 \r\n",
      "128 128 0 \r\n",
      "0 0 128 \r\n",
      "128 0 128 \r\n",
      "0 128 128 \r\n",
      "128 128 128 \r\n",
      "64 0 0 \r\n",
      "192 0 0 \r\n",
      "64 128 0 \r\n",
      "192 128 0 \r\n",
      "64 0 128 \r\n",
      "192 0 128 \r\n",
      "64 128 128 \r\n",
      "192 128 128 \r\n",
      "0 64 0 \r\n",
      "128 64 0 \r\n",
      "0 192 0 \r\n",
      "128 192 0 \r\n",
      "0 64 128 \r\n",
      "128 64 128 \r\n",
      "0 192 128 \r\n",
      "128 192 128 \r\n",
      "64 64 0 \r\n",
      "192 64 0 \r\n",
      "64 192 0 \r\n",
      "192 192 0 \r\n",
      "64 64 128 \r\n",
      "192 64 128 \r\n",
      "64 192 128 \r\n",
      "192 192 128 \r\n",
      "0 0 64 \r\n",
      "128 0 64 \r\n",
      "0 128 64 \r\n",
      "128 128 64 \r\n",
      "0 0 192 \r\n",
      "128 0 192 \r\n",
      "0 128 192 \r\n",
      "128 128 192 \r\n",
      "64 0 64 \r\n",
      "192 0 64 \r\n"
     ]
    }
   ],
   "source": [
    "!cat ../data/imgs/palette.txt"
   ]
  },
  {
   "cell_type": "code",
   "execution_count": null,
   "metadata": {
    "collapsed": true
   },
   "outputs": [],
   "source": []
  }
 ],
 "metadata": {
  "kernelspec": {
   "display_name": "Python 2",
   "language": "python",
   "name": "python2"
  },
  "language_info": {
   "codemirror_mode": {
    "name": "ipython",
    "version": 2
   },
   "file_extension": ".py",
   "mimetype": "text/x-python",
   "name": "python",
   "nbconvert_exporter": "python",
   "pygments_lexer": "ipython2",
   "version": "2.7.11"
  }
 },
 "nbformat": 4,
 "nbformat_minor": 0
}
