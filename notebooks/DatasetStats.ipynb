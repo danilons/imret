{
 "cells": [
  {
   "cell_type": "code",
   "execution_count": 16,
   "metadata": {
    "collapsed": true
   },
   "outputs": [],
   "source": [
    "from __future__ import division\n",
    "from imret.dataset import Dataset\n",
    "from imret.query import Annotation\n",
    "import pandas as pd"
   ]
  },
  {
   "cell_type": "code",
   "execution_count": 17,
   "metadata": {
    "collapsed": true
   },
   "outputs": [],
   "source": [
    "import caffe"
   ]
  },
  {
   "cell_type": "code",
   "execution_count": 18,
   "metadata": {
    "collapsed": true
   },
   "outputs": [],
   "source": [
    "net = caffe.Net('/Users/danilonunes/workspace/caffe-libs/sceneparsing/models/deploy_DilatedNet.prototxt',\n",
    "                '/Users/danilonunes/workspace/caffe-libs/sceneparsing/models/DilatedNet_iter_120000.caffemodel',\n",
    "                caffe.TEST)"
   ]
  },
  {
   "cell_type": "code",
   "execution_count": 22,
   "metadata": {
    "collapsed": false
   },
   "outputs": [
    {
     "data": {
      "text/html": [
       "<div>\n",
       "<table border=\"1\" class=\"dataframe\">\n",
       "  <thead>\n",
       "    <tr style=\"text-align: right;\">\n",
       "      <th></th>\n",
       "      <th>Idx</th>\n",
       "      <th>Ratio</th>\n",
       "      <th>Train</th>\n",
       "      <th>Val</th>\n",
       "      <th>Name</th>\n",
       "    </tr>\n",
       "  </thead>\n",
       "  <tbody>\n",
       "    <tr>\n",
       "      <th>0</th>\n",
       "      <td>1</td>\n",
       "      <td>0.1576</td>\n",
       "      <td>11664</td>\n",
       "      <td>1172</td>\n",
       "      <td>wall</td>\n",
       "    </tr>\n",
       "    <tr>\n",
       "      <th>1</th>\n",
       "      <td>2</td>\n",
       "      <td>0.1072</td>\n",
       "      <td>6046</td>\n",
       "      <td>612</td>\n",
       "      <td>building, edifice</td>\n",
       "    </tr>\n",
       "    <tr>\n",
       "      <th>2</th>\n",
       "      <td>3</td>\n",
       "      <td>0.0878</td>\n",
       "      <td>8265</td>\n",
       "      <td>796</td>\n",
       "      <td>sky</td>\n",
       "    </tr>\n",
       "    <tr>\n",
       "      <th>3</th>\n",
       "      <td>4</td>\n",
       "      <td>0.0621</td>\n",
       "      <td>9336</td>\n",
       "      <td>917</td>\n",
       "      <td>floor, flooring</td>\n",
       "    </tr>\n",
       "    <tr>\n",
       "      <th>4</th>\n",
       "      <td>5</td>\n",
       "      <td>0.0480</td>\n",
       "      <td>6678</td>\n",
       "      <td>641</td>\n",
       "      <td>tree</td>\n",
       "    </tr>\n",
       "  </tbody>\n",
       "</table>\n",
       "</div>"
      ],
      "text/plain": [
       "   Idx   Ratio  Train   Val               Name\n",
       "0    1  0.1576  11664  1172               wall\n",
       "1    2  0.1072   6046   612  building, edifice\n",
       "2    3  0.0878   8265   796                sky\n",
       "3    4  0.0621   9336   917    floor, flooring\n",
       "4    5  0.0480   6678   641               tree"
      ]
     },
     "execution_count": 22,
     "metadata": {},
     "output_type": "execute_result"
    }
   ],
   "source": [
    "df = pd.read_csv('/Users/danilonunes/workspace/caffe-libs/sceneparsing/objectInfo150.txt', sep='\\t')\n",
    "df.head()"
   ]
  },
  {
   "cell_type": "code",
   "execution_count": 23,
   "metadata": {
    "collapsed": false
   },
   "outputs": [
    {
     "name": "stdout",
     "output_type": "stream",
     "text": [
      "150\n"
     ]
    }
   ],
   "source": [
    "names = [name.split(',')[0] for name in set(df.Name)]\n",
    "print(len(names))"
   ]
  },
  {
   "cell_type": "code",
   "execution_count": 87,
   "metadata": {
    "collapsed": false
   },
   "outputs": [],
   "source": [
    "import cv2\n",
    "import cytoolz\n",
    "import re"
   ]
  },
  {
   "cell_type": "code",
   "execution_count": 63,
   "metadata": {
    "collapsed": false
   },
   "outputs": [],
   "source": [
    "is_train = False\n",
    "if is_train:\n",
    "    dataset = Dataset('../data/datasets/', 'train', '../data/images/')\n",
    "    annot = Annotation('../data/query/train_anno/')\n",
    "    \n",
    "else:\n",
    "    dataset = Dataset('../data/datasets2/', 'test', '../data/images/')\n",
    "    annot = Annotation('../data/query/test_anno/')\n",
    "    \n",
    "images = set(annot.imgs.keys()) & set(dataset.images)"
   ]
  },
  {
   "cell_type": "code",
   "execution_count": 64,
   "metadata": {
    "collapsed": false
   },
   "outputs": [],
   "source": [
    "areas = {}\n",
    "total = []\n",
    "norm = {}\n",
    "\n",
    "for imname in images:\n",
    "    imarray = dataset.get_im_array(imname)\n",
    "    if imarray is None:\n",
    "        continue\n",
    "        \n",
    "    else:\n",
    "        w, h = imarray.shape[:2]\n",
    "    \n",
    "    ground_truth = {k: v for k, v in dataset.ground_truth(imname).items() if re.match('\\D+',k).group() in annot.normalized_names}\n",
    "    for obj, contour in ground_truth.items():\n",
    "        name = cp.class_names.get(obj, obj)\n",
    "        if name not in areas:\n",
    "            areas[name] = 0\n",
    "            norm[name] = 0\n",
    "        areas[name] += cv2.contourArea(contour) \n",
    "        norm[name] += (cv2.contourArea(contour) / (w*h))\n",
    "        total.append(name)"
   ]
  },
  {
   "cell_type": "code",
   "execution_count": 65,
   "metadata": {
    "collapsed": false
   },
   "outputs": [],
   "source": [
    "freq = cytoolz.frequencies(total)"
   ]
  },
  {
   "cell_type": "code",
   "execution_count": 66,
   "metadata": {
    "collapsed": true
   },
   "outputs": [],
   "source": [
    "if is_train:\n",
    "    train = {}\n",
    "    for k, v in sorted(freq.items(), key=lambda x: x[0]):\n",
    "        train.setdefault('name', []).append(k)\n",
    "        train.setdefault('count', []).append(v)\n",
    "        train.setdefault('area', []).append(areas[k])\n",
    "        train.setdefault('norm', []).append(norm[k])\n",
    "    df = pd.DataFrame(train)\n",
    "else:\n",
    "    test = {}\n",
    "    for k, v in sorted(freq.items(), key=lambda x: x[0]):\n",
    "        test.setdefault('name', []).append(k)\n",
    "        test.setdefault('count', []).append(v)\n",
    "        test.setdefault('area', []).append(areas[k])\n",
    "        test.setdefault('norm', []).append(norm[k])\n",
    "    df2 = pd.DataFrame(test)"
   ]
  },
  {
   "cell_type": "code",
   "execution_count": 67,
   "metadata": {
    "collapsed": false
   },
   "outputs": [
    {
     "data": {
      "text/html": [
       "<div>\n",
       "<table border=\"1\" class=\"dataframe\">\n",
       "  <thead>\n",
       "    <tr style=\"text-align: right;\">\n",
       "      <th></th>\n",
       "      <th>area_x</th>\n",
       "      <th>count_x</th>\n",
       "      <th>name</th>\n",
       "      <th>norm_x</th>\n",
       "      <th>area_y</th>\n",
       "      <th>count_y</th>\n",
       "      <th>norm_y</th>\n",
       "    </tr>\n",
       "  </thead>\n",
       "  <tbody>\n",
       "    <tr>\n",
       "      <th>0</th>\n",
       "      <td>1708749.5</td>\n",
       "      <td>31</td>\n",
       "      <td>airplane</td>\n",
       "      <td>1.465263</td>\n",
       "      <td>1712876.5</td>\n",
       "      <td>28</td>\n",
       "      <td>0.915717</td>\n",
       "    </tr>\n",
       "    <tr>\n",
       "      <th>1</th>\n",
       "      <td>2280386.0</td>\n",
       "      <td>79</td>\n",
       "      <td>armchair</td>\n",
       "      <td>3.551011</td>\n",
       "      <td>978449.5</td>\n",
       "      <td>77</td>\n",
       "      <td>3.063309</td>\n",
       "    </tr>\n",
       "    <tr>\n",
       "      <th>2</th>\n",
       "      <td>2264473.0</td>\n",
       "      <td>57</td>\n",
       "      <td>balcony</td>\n",
       "      <td>3.680047</td>\n",
       "      <td>1238547.0</td>\n",
       "      <td>56</td>\n",
       "      <td>3.718344</td>\n",
       "    </tr>\n",
       "    <tr>\n",
       "      <th>3</th>\n",
       "      <td>530225.5</td>\n",
       "      <td>19</td>\n",
       "      <td>bar</td>\n",
       "      <td>2.564089</td>\n",
       "      <td>186530.0</td>\n",
       "      <td>13</td>\n",
       "      <td>1.211677</td>\n",
       "    </tr>\n",
       "    <tr>\n",
       "      <th>4</th>\n",
       "      <td>304565.5</td>\n",
       "      <td>40</td>\n",
       "      <td>basket</td>\n",
       "      <td>0.437681</td>\n",
       "      <td>249371.5</td>\n",
       "      <td>51</td>\n",
       "      <td>0.718224</td>\n",
       "    </tr>\n",
       "  </tbody>\n",
       "</table>\n",
       "</div>"
      ],
      "text/plain": [
       "      area_x  count_x      name    norm_x     area_y  count_y    norm_y\n",
       "0  1708749.5       31  airplane  1.465263  1712876.5       28  0.915717\n",
       "1  2280386.0       79  armchair  3.551011   978449.5       77  3.063309\n",
       "2  2264473.0       57   balcony  3.680047  1238547.0       56  3.718344\n",
       "3   530225.5       19       bar  2.564089   186530.0       13  1.211677\n",
       "4   304565.5       40    basket  0.437681   249371.5       51  0.718224"
      ]
     },
     "execution_count": 67,
     "metadata": {},
     "output_type": "execute_result"
    }
   ],
   "source": [
    "merged = pd.merge(df, df2, on='name')\n",
    "merged.head()"
   ]
  },
  {
   "cell_type": "code",
   "execution_count": 69,
   "metadata": {
    "collapsed": false
   },
   "outputs": [],
   "source": [
    "merged['relation_count'] = merged[['count_x', 'count_y']].apply(lambda x: x['count_x'] / float(x['count_y']), axis=1)\n",
    "merged['relation_area'] = merged[['area_x', 'area_y']].apply(lambda x: x['area_x'] / float(x['area_y']), axis=1)\n",
    "merged['relation_norm'] = merged[['norm_x', 'norm_y']].apply(lambda x: x['norm_x'] / float(x['norm_y']), axis=1)\n"
   ]
  },
  {
   "cell_type": "code",
   "execution_count": 70,
   "metadata": {
    "collapsed": false
   },
   "outputs": [
    {
     "data": {
      "text/html": [
       "<div>\n",
       "<table border=\"1\" class=\"dataframe\">\n",
       "  <thead>\n",
       "    <tr style=\"text-align: right;\">\n",
       "      <th></th>\n",
       "      <th>name</th>\n",
       "      <th>count_x</th>\n",
       "      <th>area_x</th>\n",
       "      <th>norm_x</th>\n",
       "      <th>count_y</th>\n",
       "      <th>area_y</th>\n",
       "      <th>norm_y</th>\n",
       "      <th>relation_count</th>\n",
       "      <th>relation_area</th>\n",
       "      <th>relation_norm</th>\n",
       "    </tr>\n",
       "  </thead>\n",
       "  <tbody>\n",
       "    <tr>\n",
       "      <th>0</th>\n",
       "      <td>airplane</td>\n",
       "      <td>31</td>\n",
       "      <td>1708749.5</td>\n",
       "      <td>1.465263</td>\n",
       "      <td>28</td>\n",
       "      <td>1712876.5</td>\n",
       "      <td>0.915717</td>\n",
       "      <td>1.107143</td>\n",
       "      <td>0.997591</td>\n",
       "      <td>1.600126</td>\n",
       "    </tr>\n",
       "    <tr>\n",
       "      <th>1</th>\n",
       "      <td>armchair</td>\n",
       "      <td>79</td>\n",
       "      <td>2280386.0</td>\n",
       "      <td>3.551011</td>\n",
       "      <td>77</td>\n",
       "      <td>978449.5</td>\n",
       "      <td>3.063309</td>\n",
       "      <td>1.025974</td>\n",
       "      <td>2.330612</td>\n",
       "      <td>1.159208</td>\n",
       "    </tr>\n",
       "    <tr>\n",
       "      <th>2</th>\n",
       "      <td>balcony</td>\n",
       "      <td>57</td>\n",
       "      <td>2264473.0</td>\n",
       "      <td>3.680047</td>\n",
       "      <td>56</td>\n",
       "      <td>1238547.0</td>\n",
       "      <td>3.718344</td>\n",
       "      <td>1.017857</td>\n",
       "      <td>1.828330</td>\n",
       "      <td>0.989700</td>\n",
       "    </tr>\n",
       "    <tr>\n",
       "      <th>3</th>\n",
       "      <td>bar</td>\n",
       "      <td>19</td>\n",
       "      <td>530225.5</td>\n",
       "      <td>2.564089</td>\n",
       "      <td>13</td>\n",
       "      <td>186530.0</td>\n",
       "      <td>1.211677</td>\n",
       "      <td>1.461538</td>\n",
       "      <td>2.842575</td>\n",
       "      <td>2.116149</td>\n",
       "    </tr>\n",
       "    <tr>\n",
       "      <th>4</th>\n",
       "      <td>basket</td>\n",
       "      <td>40</td>\n",
       "      <td>304565.5</td>\n",
       "      <td>0.437681</td>\n",
       "      <td>51</td>\n",
       "      <td>249371.5</td>\n",
       "      <td>0.718224</td>\n",
       "      <td>0.784314</td>\n",
       "      <td>1.221332</td>\n",
       "      <td>0.609394</td>\n",
       "    </tr>\n",
       "  </tbody>\n",
       "</table>\n",
       "</div>"
      ],
      "text/plain": [
       "       name  count_x     area_x    norm_x  count_y     area_y    norm_y  \\\n",
       "0  airplane       31  1708749.5  1.465263       28  1712876.5  0.915717   \n",
       "1  armchair       79  2280386.0  3.551011       77   978449.5  3.063309   \n",
       "2   balcony       57  2264473.0  3.680047       56  1238547.0  3.718344   \n",
       "3       bar       19   530225.5  2.564089       13   186530.0  1.211677   \n",
       "4    basket       40   304565.5  0.437681       51   249371.5  0.718224   \n",
       "\n",
       "   relation_count  relation_area  relation_norm  \n",
       "0        1.107143       0.997591       1.600126  \n",
       "1        1.025974       2.330612       1.159208  \n",
       "2        1.017857       1.828330       0.989700  \n",
       "3        1.461538       2.842575       2.116149  \n",
       "4        0.784314       1.221332       0.609394  "
      ]
     },
     "execution_count": 70,
     "metadata": {},
     "output_type": "execute_result"
    }
   ],
   "source": [
    "merged[['name', 'count_x', 'area_x', 'norm_x', 'count_y', 'area_y', 'norm_y', 'relation_count', 'relation_area', 'relation_norm']].head()"
   ]
  },
  {
   "cell_type": "code",
   "execution_count": 72,
   "metadata": {
    "collapsed": false,
    "scrolled": true
   },
   "outputs": [
    {
     "name": "stdout",
     "output_type": "stream",
     "text": [
      "\\textit{Airplane} & 31 & 0.05 & 28 & 0.03 & 1.11 & 1.45 & \\\\\n",
      "\\textit{Armchair} & 79 & 0.04 & 77 & 0.04 & 1.03 & 1.13 & \\\\\n",
      "\\textit{Balcony} & 57 & 0.06 & 56 & 0.07 & 1.02 & 0.97 & \\\\\n",
      "\\textit{Bar} & 19 & 0.13 & 13 & 0.09 & 1.46 & 1.45 & \\\\\n",
      "\\textit{Basket} & 40 & 0.01 & 51 & 0.01 & 0.78 & 0.78 & \\\\\n",
      "\\textit{Bench} & 56 & 0.03 & 79 & 0.03 & 0.71 & 1.03 & \\\\\n",
      "\\textit{Book} & 37 & 0.00 & 48 & 0.01 & 0.77 & 0.65 & \\\\\n",
      "\\textit{Bookcase} & 29 & 0.19 & 26 & 0.22 & 1.12 & 0.87 & \\\\\n",
      "\\textit{Bottle} & 46 & 0.00 & 44 & 0.00 & 1.05 & 1.27 & \\\\\n",
      "\\textit{Box} & 60 & 0.01 & 80 & 0.02 & 0.75 & 0.71 & \\\\\n",
      "\\textit{Building} & 930 & 0.21 & 941 & 0.23 & 0.99 & 0.89 & \\\\\n",
      "\\textit{Cabinet} & 68 & 0.06 & 77 & 0.07 & 0.88 & 0.84 & \\\\\n",
      "\\textit{Car} & 359 & 0.01 & 289 & 0.01 & 1.24 & 0.82 & \\\\\n",
      "\\textit{Chair} & 321 & 0.02 & 348 & 0.03 & 0.92 & 0.87 & \\\\\n",
      "\\textit{Closet} & 18 & 0.15 & 22 & 0.18 & 0.82 & 0.83 & \\\\\n",
      "\\textit{Curtain} & 139 & 0.08 & 165 & 0.09 & 0.84 & 0.86 & \\\\\n",
      "\\textit{Desk} & 67 & 0.08 & 89 & 0.08 & 0.75 & 0.94 & \\\\\n",
      "\\textit{Door} & 446 & 0.03 & 472 & 0.03 & 0.94 & 0.80 & \\\\\n",
      "\\textit{Fence} & 174 & 0.04 & 148 & 0.04 & 1.18 & 1.04 & \\\\\n",
      "\\textit{Floor} & 679 & 0.24 & 797 & 0.24 & 0.85 & 0.97 & \\\\\n",
      "\\textit{Grass} & 342 & 0.11 & 318 & 0.12 & 1.08 & 0.96 & \\\\\n",
      "\\textit{Ground} & 229 & 0.15 & 233 & 0.15 & 0.98 & 1.02 & \\\\\n",
      "\\textit{Mirror} & 96 & 0.06 & 107 & 0.07 & 0.90 & 0.93 & \\\\\n",
      "\\textit{Path} & 98 & 0.06 & 94 & 0.09 & 1.04 & 0.65 & \\\\\n",
      "\\textit{Plant} & 368 & 0.04 & 405 & 0.04 & 0.91 & 1.07 & \\\\\n",
      "\\textit{Poster} & 44 & 0.02 & 55 & 0.02 & 0.80 & 1.21 & \\\\\n",
      "\\textit{Refrigerator} & 22 & 0.08 & 25 & 0.09 & 0.88 & 0.87 & \\\\\n",
      "\\textit{Road} & 520 & 0.17 & 475 & 0.17 & 1.09 & 1.02 & \\\\\n",
      "\\textit{Rock} & 14 & 0.06 & 15 & 0.04 & 0.93 & 1.50 & \\\\\n",
      "\\textit{Sign} & 187 & 0.01 & 174 & 0.01 & 1.07 & 1.61 & \\\\\n",
      "\\textit{Sky} & 1247 & 0.27 & 1132 & 0.25 & 1.10 & 1.08 & \\\\\n",
      "\\textit{Streetlight} & 92 & 0.00 & 86 & 0.00 & 1.07 & 1.25 & \\\\\n",
      "\\textit{Table} & 307 & 0.05 & 318 & 0.05 & 0.97 & 1.05 & \\\\\n",
      "\\textit{Tree} & 872 & 0.06 & 780 & 0.07 & 1.12 & 0.88 & \\\\\n",
      "\\textit{Van} & 68 & 0.01 & 69 & 0.02 & 0.99 & 0.60 & \\\\\n",
      "\\textit{Vase} & 82 & 0.00 & 70 & 0.01 & 1.17 & 0.74 & \\\\\n",
      "\\textit{Wall} & 877 & 0.21 & 959 & 0.21 & 0.91 & 0.99 & \\\\\n",
      "\\textit{Water} & 85 & 0.21 & 73 & 0.22 & 1.16 & 0.94 & \\\\\n",
      "\\textit{Window} & 775 & 0.03 & 829 & 0.03 & 0.93 & 1.03 & \\\\\n"
     ]
    }
   ],
   "source": [
    "for _, row in merged.iterrows():\n",
    "    print \"\\\\textit{{{name}}} & {freq_train} & {area_train:.2f} & {freq_test} & {area_test:.2f} & {relation_count:.2f} & {relation_area:.2f} & \\\\\\\\\".format(name=row['name'].title(),\n",
    "                                                                                                                            freq_train=row['count_x'],\n",
    "                                                                                                                            area_train=row['norm_x'] / row['count_x'],\n",
    "                                                                                                                            freq_test=row['count_y'],\n",
    "                                                                                                                            area_test=row['norm_y'] / row['count_y'],\n",
    "                                                                                                                            relation_count=row['relation_count'],\n",
    "                                                                                                                            relation_area=row['relation_norm'] / row['relation_count'])"
   ]
  },
  {
   "cell_type": "code",
   "execution_count": 78,
   "metadata": {
    "collapsed": false
   },
   "outputs": [
    {
     "name": "stdout",
     "output_type": "stream",
     "text": [
      "258.128205128\n"
     ]
    }
   ],
   "source": [
    "print merged.mean()['count_y']"
   ]
  },
  {
   "cell_type": "code",
   "execution_count": 86,
   "metadata": {
    "collapsed": false
   },
   "outputs": [
    {
     "name": "stdout",
     "output_type": "stream",
     "text": [
      "1.00050273065\n"
     ]
    }
   ],
   "source": [
    "print merged.mean()['relation_norm'] / merged.mean()['relation_count']"
   ]
  },
  {
   "cell_type": "code",
   "execution_count": 134,
   "metadata": {
    "collapsed": false
   },
   "outputs": [
    {
     "data": {
      "text/plain": [
       "0.12818380743982494"
      ]
     },
     "execution_count": 134,
     "metadata": {},
     "output_type": "execute_result"
    }
   ],
   "source": [
    "29.29 / 228.5"
   ]
  },
  {
   "cell_type": "code",
   "execution_count": 80,
   "metadata": {
    "collapsed": false
   },
   "outputs": [
    {
     "data": {
      "text/plain": [
       "0.98267267471132669"
      ]
     },
     "execution_count": 80,
     "metadata": {},
     "output_type": "execute_result"
    }
   ],
   "source": [
    "merged.mean()['relation_count']"
   ]
  },
  {
   "cell_type": "code",
   "execution_count": 83,
   "metadata": {
    "collapsed": false
   },
   "outputs": [
    {
     "data": {
      "text/html": [
       "<div>\n",
       "<table border=\"1\" class=\"dataframe\">\n",
       "  <thead>\n",
       "    <tr style=\"text-align: right;\">\n",
       "      <th></th>\n",
       "      <th>name</th>\n",
       "      <th>count_x</th>\n",
       "      <th>norm_x</th>\n",
       "    </tr>\n",
       "  </thead>\n",
       "  <tbody>\n",
       "    <tr>\n",
       "      <th>34</th>\n",
       "      <td>van</td>\n",
       "      <td>68</td>\n",
       "      <td>0.862464</td>\n",
       "    </tr>\n",
       "    <tr>\n",
       "      <th>35</th>\n",
       "      <td>vase</td>\n",
       "      <td>82</td>\n",
       "      <td>0.381452</td>\n",
       "    </tr>\n",
       "    <tr>\n",
       "      <th>36</th>\n",
       "      <td>wall</td>\n",
       "      <td>877</td>\n",
       "      <td>184.092173</td>\n",
       "    </tr>\n",
       "    <tr>\n",
       "      <th>37</th>\n",
       "      <td>water</td>\n",
       "      <td>85</td>\n",
       "      <td>17.602346</td>\n",
       "    </tr>\n",
       "    <tr>\n",
       "      <th>38</th>\n",
       "      <td>window</td>\n",
       "      <td>775</td>\n",
       "      <td>25.732346</td>\n",
       "    </tr>\n",
       "  </tbody>\n",
       "</table>\n",
       "</div>"
      ],
      "text/plain": [
       "      name  count_x      norm_x\n",
       "34     van       68    0.862464\n",
       "35    vase       82    0.381452\n",
       "36    wall      877  184.092173\n",
       "37   water       85   17.602346\n",
       "38  window      775   25.732346"
      ]
     },
     "execution_count": 83,
     "metadata": {},
     "output_type": "execute_result"
    }
   ],
   "source": [
    "merged[['name', 'count_x' , 'norm_x']].tail()"
   ]
  },
  {
   "cell_type": "code",
   "execution_count": null,
   "metadata": {
    "collapsed": true
   },
   "outputs": [],
   "source": []
  }
 ],
 "metadata": {
  "kernelspec": {
   "display_name": "Python 2",
   "language": "python",
   "name": "python2"
  },
  "language_info": {
   "codemirror_mode": {
    "name": "ipython",
    "version": 2
   },
   "file_extension": ".py",
   "mimetype": "text/x-python",
   "name": "python",
   "nbconvert_exporter": "python",
   "pygments_lexer": "ipython2",
   "version": "2.7.11"
  }
 },
 "nbformat": 4,
 "nbformat_minor": 0
}
