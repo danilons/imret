{
 "cells": [
  {
   "cell_type": "code",
   "execution_count": 2,
   "metadata": {
    "collapsed": true
   },
   "outputs": [],
   "source": [
    "import networkx as nx\n",
    "from nxpd import draw, nxpdParams\n",
    "nxpdParams['show'] = 'ipynb'"
   ]
  },
  {
   "cell_type": "code",
   "execution_count": 8,
   "metadata": {
    "collapsed": false
   },
   "outputs": [
    {
     "name": "stdout",
     "output_type": "stream",
     "text": [
      "Warning: using box for unknown shape cube\n",
      "\n"
     ]
    },
    {
     "data": {
      "image/png": "[encoded data removed]",
      "text/plain": [
       "<IPython.core.display.Image object>"
      ]
     },
     "execution_count": 8,
     "metadata": {},
     "output_type": "execute_result"
    }
   ],
   "source": [
    "G = nx.DiGraph()\n",
    "G.graph['rankdir'] = 'TD'\n",
    "G.graph['dpi'] = 120\n",
    "G.add_node('data', color='red', style='filled', shape='square', fillcolor='pink')\n",
    "G.add_node('conv1', color='gray', style='filled', shape='cube', fillcolor='gray')\n",
    "G.add_edge('data', 'conv1', label='(384, 384, 4)')\n",
    "# G.add_cycle(range(4))\n",
    "# G.add_node(0, color='red', style='filled', fillcolor='pink')\n",
    "# G.add_node(1, shape='square')\n",
    "# G.add_node(3, style='filled', fillcolor='#00ffff')\n",
    "# G.add_edge(0, 1, color='red', style='dashed')\n",
    "# G.add_edge(3, 3, label='a')\n",
    "draw(G)"
   ]
  },
  {
   "cell_type": "code",
   "execution_count": 9,
   "metadata": {
    "collapsed": false
   },
   "outputs": [],
   "source": [
    "%matplotlib inline\n",
    "import matplotlib.pyplot as plt"
   ]
  },
  {
   "cell_type": "code",
   "execution_count": 11,
   "metadata": {
    "collapsed": true
   },
   "outputs": [],
   "source": [
    "from matplotlib.lines import Line2D\n",
    "from matplotlib.patches import Rectangle\n",
    "from matplotlib.collections import PatchCollection"
   ]
  },
  {
   "cell_type": "code",
   "execution_count": 15,
   "metadata": {
    "collapsed": true
   },
   "outputs": [],
   "source": [
    "import numpy as np"
   ]
  },
  {
   "cell_type": "code",
   "execution_count": 67,
   "metadata": {
    "collapsed": true
   },
   "outputs": [],
   "source": [
    "def add_layer(patches, colors, size=24, num=5,\n",
    "              top_left=[0, 0],\n",
    "              loc_diff=[3, -3],\n",
    "              ):\n",
    "    # add a rectangle\n",
    "    top_left = np.array(top_left)\n",
    "    loc_diff = np.array(loc_diff)\n",
    "    loc_start = top_left - np.array([0, size])\n",
    "    for ind in range(num):\n",
    "        print(loc_start + ind * loc_diff, size)\n",
    "        patches.append(Rectangle(loc_start + ind * loc_diff, size, size))\n",
    "        if ind % 2:\n",
    "            colors.append(Medium)\n",
    "        else:\n",
    "            colors.append(Light)"
   ]
  },
  {
   "cell_type": "code",
   "execution_count": 72,
   "metadata": {
    "collapsed": false
   },
   "outputs": [],
   "source": [
    "patches = []\n",
    "colors = []\n",
    "\n",
    "fc_unit_size = 2\n",
    "layer_width = 40\n",
    "\n",
    "NumConvMax = 8\n",
    "NumFcMax = 20\n",
    "White = 1.\n",
    "Light = 0.7\n",
    "Medium = 0.5\n",
    "Dark = 0.3\n",
    "Black = 0.\n",
    "\n",
    "\n",
    "size_list = [32, 18] #, 10, 6, 4]\n",
    "num_list = [3, 32, 32, 48, 48]\n",
    "x_diff_list = [0, layer_width, layer_width, layer_width, layer_width]\n",
    "text_list = ['Inputs'] + ['Feature\\nmaps'] * (len(size_list) - 1)\n",
    "loc_diff_list = [[3, -3]] * len(size_list)\n",
    "\n",
    "num_show_list = list(map(min, num_list, [NumConvMax] * len(num_list)))\n",
    "top_left_list = np.c_[np.cumsum(x_diff_list), np.zeros(len(x_diff_list))]"
   ]
  },
  {
   "cell_type": "code",
   "execution_count": 73,
   "metadata": {
    "collapsed": false
   },
   "outputs": [
    {
     "name": "stdout",
     "output_type": "stream",
     "text": [
      "(array([  0., -32.]), 32)\n",
      "(array([  3., -35.]), 32)\n",
      "(array([  6., -38.]), 32)\n",
      "(array([ 40., -18.]), 18)\n",
      "(array([ 43., -21.]), 18)\n",
      "(array([ 46., -24.]), 18)\n",
      "(array([ 49., -27.]), 18)\n",
      "(array([ 52., -30.]), 18)\n",
      "(array([ 55., -33.]), 18)\n",
      "(array([ 58., -36.]), 18)\n",
      "(array([ 61., -39.]), 18)\n"
     ]
    },
    {
     "data": {
      "image/png": "[encoded data removed]",
      "text/plain": [
       "<matplotlib.figure.Figure at 0x10bcc2710>"
      ]
     },
     "metadata": {},
     "output_type": "display_data"
    }
   ],
   "source": [
    "fig, ax = plt.subplots()\n",
    "for ind in range(len(size_list)):\n",
    "    add_layer(patches, colors, size=size_list[ind],\n",
    "              num=num_show_list[ind],\n",
    "              top_left=top_left_list[ind], loc_diff=loc_diff_list[ind])\n",
    "    \n",
    "# xys = np.array([[  0., -32.],\n",
    "#                 [  3., -32.],\n",
    "#                 [  6., -32.],\n",
    "#                 [ 40., -18.],\n",
    "#                 [ 43., -21.],\n",
    "#                 [ 46., -24.],\n",
    "#                 [ 49., -27.],\n",
    "#                 [ 52., -30.],\n",
    "#                 [ 55., -33.],\n",
    "#                 [ 58., -36.],\n",
    "#                 [ 61., -39.],])\n",
    "\n",
    "# for xy in xys:\n",
    "#     patches.append(Rectangle(xy, 24, 24))\n",
    "# patches.append(Rectangle(loc_start * loc_diff, size, size))\n",
    "\n",
    "collection = PatchCollection(patches, cmap=plt.cm.gray)\n",
    "# collection.set_array(colors)\n",
    "ax.add_collection(collection)\n",
    "plt.tight_layout()\n",
    "plt.axis('equal')\n",
    "plt.axis('off')\n",
    "plt.show()"
   ]
  },
  {
   "cell_type": "code",
   "execution_count": 52,
   "metadata": {
    "collapsed": true
   },
   "outputs": [],
   "source": []
  },
  {
   "cell_type": "code",
   "execution_count": null,
   "metadata": {
    "collapsed": true
   },
   "outputs": [],
   "source": []
  }
 ],
 "metadata": {
  "kernelspec": {
   "display_name": "Python 2",
   "language": "python",
   "name": "python2"
  },
  "language_info": {
   "codemirror_mode": {
    "name": "ipython",
    "version": 2
   },
   "file_extension": ".py",
   "mimetype": "text/x-python",
   "name": "python",
   "nbconvert_exporter": "python",
   "pygments_lexer": "ipython2",
   "version": "2.7.13"
  }
 },
 "nbformat": 4,
 "nbformat_minor": 0
}
