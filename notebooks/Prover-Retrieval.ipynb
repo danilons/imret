{
 "cells": [
  {
   "cell_type": "code",
   "execution_count": 19,
   "metadata": {
    "collapsed": true
   },
   "outputs": [],
   "source": [
    "from __future__ import division"
   ]
  },
  {
   "cell_type": "code",
   "execution_count": 20,
   "metadata": {
    "collapsed": true
   },
   "outputs": [],
   "source": [
    "import json\n",
    "import pandas as pd\n",
    "import numpy as np"
   ]
  },
  {
   "cell_type": "code",
   "execution_count": 21,
   "metadata": {
    "collapsed": true
   },
   "outputs": [],
   "source": [
    "from imret.query import Annotation, KnowledgeBase\n",
    "from imret.dataset import Dataset"
   ]
  },
  {
   "cell_type": "code",
   "execution_count": 22,
   "metadata": {
    "collapsed": true
   },
   "outputs": [],
   "source": [
    "with open('../data/prover/map_prover-0900_retrieved.json', 'r') as fp:\n",
    "    retrieved = json.load(fp)"
   ]
  },
  {
   "cell_type": "code",
   "execution_count": 23,
   "metadata": {
    "collapsed": true
   },
   "outputs": [],
   "source": [
    "db = Dataset('../data/datasets/', 'test', '../data/images/')\n",
    "# qa = Annotation('../data/query/test_anno/')\n",
    "qa = Annotation('../data/corrected_test_anno/')"
   ]
  },
  {
   "cell_type": "code",
   "execution_count": 24,
   "metadata": {
    "collapsed": true
   },
   "outputs": [],
   "source": [
    "df = pd.read_csv('../data/query/query_equivalence.csv')\n",
    "df.dropna(inplace=True)\n",
    "queries = dict(zip(df['Original'], df['Equivalent']))"
   ]
  },
  {
   "cell_type": "code",
   "execution_count": 25,
   "metadata": {
    "collapsed": true
   },
   "outputs": [],
   "source": [
    "def apk(expected, predicted, k=4317):\n",
    "    retrieved = np.array([ret in expected for ret in predicted[:k]]).astype(np.int32)\n",
    "    if retrieved.sum() == 0:\n",
    "        return 0.0\n",
    "\n",
    "    scores = np.arange(len(retrieved)) + 1\n",
    "    valids = np.where(retrieved > 0)\n",
    "    return np.sum(np.cumsum(retrieved[valids]) / scores[valids].astype(np.float32)) / float(min(len(expected), k))"
   ]
  },
  {
   "cell_type": "code",
   "execution_count": 28,
   "metadata": {
    "collapsed": false
   },
   "outputs": [
    {
     "name": "stdout",
     "output_type": "stream",
     "text": [
      "\\textit{airplane-in_front_of-building} & \\textit{building-behind-airplane} &   16 & \t    6 & \t 0.32 \\\\\n",
      "\\textit{armchair-in_front_of-wall} & \\textit{wall-behind-armchair} &   74 & \t   44 & \t 0.07 \\\\\n",
      "\\textit{bench-in_front_of-wall} & \\textit{wall-behind-bench} &   27 & \t   34 & \t 0.02 \\\\\n",
      "\\textit{books-inside_of-bookcase} & \\textit{books-in-bookcase} &    4 & \t   21 & \t 0.05 \\\\\n",
      "\\textit{building-behind-wall} & \\textit{wall-in_front_of-building} &  155 & \t   84 & \t 0.05 \\\\\n",
      "\\textit{curtain-above-floor} & \\textit{floor-below-curtain} &  153 & \t  148 & \t 0.08 \\\\\n",
      "\\textit{fence-in_front_of-tree} & \\textit{tree-behind-fence} &   96 & \t   37 & \t 0.02 \\\\\n",
      "\\textit{floor-under-sky} & \\textit{sky-above-floor} &  496 & \t   46 & \t 0.03 \\\\\n",
      "\\textit{grass-below-window} & \\textit{window-above-grass} &   25 & \t   99 & \t 0.06 \\\\\n",
      "\\textit{ground-under-sky} & \\textit{sky-above-ground} &  187 & \t  216 & \t 0.09 \\\\\n",
      "\\textit{road-below-building} & \\textit{building-above-road} &   54 & \t  302 & \t 0.01 \\\\\n",
      "\\textit{road-under-sky} & \\textit{sky-above-road} &  370 & \t  379 & \t 0.23 \\\\\n",
      "\\textit{table-in_front_of-wall} & \\textit{wall-behind-table} &  281 & \t  234 & \t 0.14 \\\\\n",
      "\\textit{wall-behind-chair} & \\textit{chair-in_front_of-wall} &  106 & \t  175 & \t 0.05 \\\\\n",
      "\\textit{water-under-sky} & \\textit{sky-above-water} &   61 & \t  256 & \t 0.09 \\\\\n",
      "mAP 8.73%\n"
     ]
    }
   ],
   "source": [
    "scores = []\n",
    "for query in sorted(qa.db):\n",
    "    try:\n",
    "        alias = queries[query]\n",
    "        score = apk(qa.db[query], retrieved[alias])\n",
    "        if score > 0.01:\n",
    "            scores.append(score)\n",
    "            print \"\\\\textit{{{}}} & \\\\textit{{{}}} & {:4d} & \\t {:4d} & \\t {:.2f} \\\\\\\\\".format(query, alias, len(retrieved[alias]), \n",
    "                                                                  len(qa.db[query]), score)\n",
    "    except KeyError:\n",
    "        continue\n",
    "        \n",
    "print \"mAP {:.2f}%\".format(100 * np.mean(scores))"
   ]
  },
  {
   "cell_type": "code",
   "execution_count": 29,
   "metadata": {
    "collapsed": false
   },
   "outputs": [
    {
     "data": {
      "text/plain": [
       "15"
      ]
     },
     "execution_count": 29,
     "metadata": {},
     "output_type": "execute_result"
    }
   ],
   "source": [
    "len(scores)"
   ]
  },
  {
   "cell_type": "code",
   "execution_count": 9,
   "metadata": {
    "collapsed": false
   },
   "outputs": [
    {
     "data": {
      "text/plain": [
       "['a_airport_IMG_2368.jpg',\n",
       " 'a_airport_airport_denver_photo20b.jpg',\n",
       " 'a_arrival_gate_outdoor_arrival_gate_000052.jpg',\n",
       " 'a_arrival_gate_outdoor_arrivalgateoutdoor04.jpg',\n",
       " 's_skyscraper_high-rise_000008.jpg',\n",
       " 's_skyscraper_tallbuilding_sky34.jpg']"
      ]
     },
     "execution_count": 9,
     "metadata": {},
     "output_type": "execute_result"
    }
   ],
   "source": [
    "qa.db['airplane-in_front_of-building']"
   ]
  },
  {
   "cell_type": "code",
   "execution_count": 10,
   "metadata": {
    "collapsed": false
   },
   "outputs": [
    {
     "ename": "NameError",
     "evalue": "name 'kb' is not defined",
     "output_type": "error",
     "traceback": [
      "\u001b[0;31m---------------------------------------------------------------------------\u001b[0m",
      "\u001b[0;31mNameError\u001b[0m                                 Traceback (most recent call last)",
      "\u001b[0;32m<ipython-input-10-a8478cdf2b69>\u001b[0m in \u001b[0;36m<module>\u001b[0;34m()\u001b[0m\n\u001b[0;32m----> 1\u001b[0;31m \u001b[0;32mprint\u001b[0m \u001b[0;34m\"\\n\"\u001b[0m\u001b[0;34m.\u001b[0m\u001b[0mjoin\u001b[0m\u001b[0;34m(\u001b[0m\u001b[0mkb\u001b[0m\u001b[0;34m.\u001b[0m\u001b[0montology_by_image\u001b[0m\u001b[0;34m(\u001b[0m\u001b[0;34m'a_arrival_gate_outdoor_arrival_gate_000052.jpg'\u001b[0m\u001b[0;34m)\u001b[0m\u001b[0;34m)\u001b[0m\u001b[0;34m\u001b[0m\u001b[0m\n\u001b[0m",
      "\u001b[0;31mNameError\u001b[0m: name 'kb' is not defined"
     ]
    }
   ],
   "source": [
    "print \"\\n\".join(kb.ontology_by_image('a_arrival_gate_outdoor_arrival_gate_000052.jpg'))"
   ]
  },
  {
   "cell_type": "code",
   "execution_count": 24,
   "metadata": {
    "collapsed": false
   },
   "outputs": [
    {
     "data": {
      "text/plain": [
       "['fof(kb_IRRC_84,axiom,(( s__instance(s__building0__m,s__Building) ))).',\n",
       " 'fof(kb_IRRC_85,axiom,(( s__instance(s__Building, s__SetOrClass) ))).',\n",
       " 'fof(kb_IRRC_86,axiom,(( s__instance(s__sky0__m,s__Sky) ))).',\n",
       " 'fof(kb_IRRC_87,axiom,(( s__instance(s__Sky, s__SetOrClass) ))).',\n",
       " 'fof(kb_IRRC_88,axiom,(( s__instance(s____background__0__m,s____Background__) ))).',\n",
       " 'fof(kb_IRRC_89,axiom,(( s__instance(s____Background__, s__SetOrClass) ))).',\n",
       " 'fof(kb_IRRC_90,axiom,(( s__instance(s__airplane0__m,s__Airplane) ))).',\n",
       " 'fof(kb_IRRC_91,axiom,(( s__instance(s__Airplane, s__SetOrClass) ))).',\n",
       " 'fof(kb_IRRC_92,axiom,(( s__instance(s__road0__m,s__Road) ))).',\n",
       " 'fof(kb_IRRC_93,axiom,(( s__instance(s__Road, s__SetOrClass) ))).',\n",
       " 'fof(kb_IRRC_94,axiom,(( s__instance(s__ground0__m,s__Ground) ))).',\n",
       " 'fof(kb_IRRC_95,axiom,(( s__instance(s__Ground, s__SetOrClass) ))).',\n",
       " 'fof(kb_IRRC_96,axiom,(( s__orientation(s____background__0__m,s__airplane0__m,s__Under) ))).',\n",
       " 'fof(kb_IRRC_97,axiom,(( s__orientation(s____background__0__m,s__building0__m,s__Under) ))).',\n",
       " 'fof(kb_IRRC_98,axiom,(( s__orientation(s____background__0__m,s__ground0__m,s__Under) ))).',\n",
       " 'fof(kb_IRRC_99,axiom,(( s__orientation(s____background__0__m,s__road0__m,s__On) ))).',\n",
       " 'fof(kb_IRRC_100,axiom,(( s__orientation(s____background__0__m,s__sky0__m,s__Under) ))).',\n",
       " 'fof(kb_IRRC_101,axiom,(( s__orientation(s__airplane0__m,s____background__0__m,s__Behind) ))).',\n",
       " 'fof(kb_IRRC_102,axiom,(( s__orientation(s__airplane0__m,s__building0__m,s__In) ))).',\n",
       " 'fof(kb_IRRC_103,axiom,(( s__orientation(s__airplane0__m,s__ground0__m,s__Behind) ))).',\n",
       " 'fof(kb_IRRC_104,axiom,(( s__orientation(s__airplane0__m,s__road0__m,s__On) ))).',\n",
       " 'fof(kb_IRRC_105,axiom,(( s__orientation(s__airplane0__m,s__sky0__m,s__Under) ))).',\n",
       " 'fof(kb_IRRC_106,axiom,(( s__orientation(s__building0__m,s____background__0__m,s__Behind) ))).',\n",
       " 'fof(kb_IRRC_107,axiom,(( s__orientation(s__building0__m,s__airplane0__m,s__Under) ))).',\n",
       " 'fof(kb_IRRC_108,axiom,(( s__orientation(s__building0__m,s__ground0__m,s__Behind) ))).',\n",
       " 'fof(kb_IRRC_109,axiom,(( s__orientation(s__building0__m,s__road0__m,s__On) ))).',\n",
       " 'fof(kb_IRRC_110,axiom,(( s__orientation(s__building0__m,s__sky0__m,s__Under) ))).',\n",
       " 'fof(kb_IRRC_111,axiom,(( s__orientation(s__ground0__m,s____background__0__m,s__Behind) ))).',\n",
       " 'fof(kb_IRRC_112,axiom,(( s__orientation(s__ground0__m,s__airplane0__m,s__Under) ))).',\n",
       " 'fof(kb_IRRC_113,axiom,(( s__orientation(s__ground0__m,s__building0__m,s__InFrontOf) ))).',\n",
       " 'fof(kb_IRRC_114,axiom,(( s__orientation(s__ground0__m,s__road0__m,s__On) ))).',\n",
       " 'fof(kb_IRRC_115,axiom,(( s__orientation(s__ground0__m,s__sky0__m,s__Under) ))).',\n",
       " 'fof(kb_IRRC_116,axiom,(( s__orientation(s__road0__m,s____background__0__m,s__On) ))).',\n",
       " 'fof(kb_IRRC_117,axiom,(( s__orientation(s__road0__m,s__airplane0__m,s__Under) ))).',\n",
       " 'fof(kb_IRRC_118,axiom,(( s__orientation(s__road0__m,s__building0__m,s__Under) ))).',\n",
       " 'fof(kb_IRRC_119,axiom,(( s__orientation(s__road0__m,s__ground0__m,s__Under) ))).',\n",
       " 'fof(kb_IRRC_120,axiom,(( s__orientation(s__road0__m,s__sky0__m,s__Under) ))).',\n",
       " 'fof(kb_IRRC_121,axiom,(( s__orientation(s__sky0__m,s____background__0__m,s__Behind) ))).',\n",
       " 'fof(kb_IRRC_122,axiom,(( s__orientation(s__sky0__m,s__airplane0__m,s__Under) ))).',\n",
       " 'fof(kb_IRRC_123,axiom,(( s__orientation(s__sky0__m,s__building0__m,s__Behind) ))).',\n",
       " 'fof(kb_IRRC_124,axiom,(( s__orientation(s__sky0__m,s__ground0__m,s__Behind) ))).',\n",
       " 'fof(kb_IRRC_125,axiom,(( s__orientation(s__sky0__m,s__road0__m,s__Behind) ))).']"
      ]
     },
     "execution_count": 24,
     "metadata": {},
     "output_type": "execute_result"
    }
   ],
   "source": [
    "kb.tptp_by_image('a_airport_IMG_2368.jpg')"
   ]
  },
  {
   "cell_type": "code",
   "execution_count": 26,
   "metadata": {
    "collapsed": false
   },
   "outputs": [
    {
     "data": {
      "text/plain": [
       "'fof(conj1,conjecture, ( (? [V__X,V__Y] : (s__instance(V__X,s__Building) & s__instance(V__Y,s__Airplane) & s__orientation(V__X,V__Y,s__Behind))) )).\\n               '"
      ]
     },
     "execution_count": 26,
     "metadata": {},
     "output_type": "execute_result"
    }
   ],
   "source": [
    "kb.tptp_query('building', 'airplane', 'behind')"
   ]
  },
  {
   "cell_type": "code",
   "execution_count": 17,
   "metadata": {
    "collapsed": false
   },
   "outputs": [
    {
     "data": {
      "text/plain": [
       "[u'a_arrival_gate_outdoor_arrival_gate_000052.jpg',\n",
       " u'a_airport_IMG_2080.jpg',\n",
       " u'o_opera_outdoor_opera_house_000720.jpg',\n",
       " u'a_airport_IMG_0299.jpg',\n",
       " u'a_airport_IMG_1550.jpg',\n",
       " u'a_airport_IMG_0020.jpg']"
      ]
     },
     "execution_count": 17,
     "metadata": {},
     "output_type": "execute_result"
    }
   ],
   "source": [
    "retrieved['building-behind-airplane']"
   ]
  },
  {
   "cell_type": "code",
   "execution_count": 17,
   "metadata": {
    "collapsed": false
   },
   "outputs": [],
   "source": [
    "kb = KnowledgeBase(pd.read_csv('../data/preposition/index-0.900.csv'), \n",
    "                   ltb_runner='../data/prover/E/PROVER/e_ltb_runner', \n",
    "                   eprover='../data/prover/E/PROVER/eprover', \n",
    "                   sumo='/Users/danilonunes/Documents/sigma/run/KBs/SUMO.tptp',\n",
    "                   user_assertions='/Users/danilonunes/Documents/sigma/onto/SUMO_UserAssertions.tptp')"
   ]
  },
  {
   "cell_type": "code",
   "execution_count": 18,
   "metadata": {
    "collapsed": false
   },
   "outputs": [
    {
     "name": "stdout",
     "output_type": "stream",
     "text": [
      "fof(kb_IRRC_0,axiom,(( s__instance(s__building1083__m,s__Building) ))).\n",
      "fof(kb_IRRC_1,axiom,(( s__instance(s__Building, s__SetOrClass) ))).\n",
      "fof(kb_IRRC_2,axiom,(( s__instance(s__sky1083__m,s__Sky) ))).\n",
      "fof(kb_IRRC_3,axiom,(( s__instance(s__Sky, s__SetOrClass) ))).\n",
      "fof(kb_IRRC_4,axiom,(( s__instance(s__airplane1083__m,s__Airplane) ))).\n",
      "fof(kb_IRRC_5,axiom,(( s__instance(s__Airplane, s__SetOrClass) ))).\n",
      "fof(kb_IRRC_6,axiom,(( s__instance(s__road1083__m,s__Road) ))).\n",
      "fof(kb_IRRC_7,axiom,(( s__instance(s__Road, s__SetOrClass) ))).\n",
      "fof(kb_IRRC_8,axiom,(( s__instance(s__ground1083__m,s__Ground) ))).\n",
      "fof(kb_IRRC_9,axiom,(( s__instance(s__Ground, s__SetOrClass) ))).\n",
      "fof(kb_IRRC_10,axiom,(( s__orientation(s__airplane1083__m,s__building1083__m,s__In) ))).\n",
      "fof(kb_IRRC_11,axiom,(( s__orientation(s__airplane1083__m,s__ground1083__m,s__Behind) ))).\n",
      "fof(kb_IRRC_12,axiom,(( s__orientation(s__airplane1083__m,s__road1083__m,s__On) ))).\n",
      "fof(kb_IRRC_13,axiom,(( s__orientation(s__airplane1083__m,s__sky1083__m,s__Under) ))).\n",
      "fof(kb_IRRC_14,axiom,(( s__orientation(s__building1083__m,s__airplane1083__m,s__Under) ))).\n",
      "fof(kb_IRRC_15,axiom,(( s__orientation(s__building1083__m,s__ground1083__m,s__Behind) ))).\n",
      "fof(kb_IRRC_16,axiom,(( s__orientation(s__building1083__m,s__road1083__m,s__On) ))).\n",
      "fof(kb_IRRC_17,axiom,(( s__orientation(s__building1083__m,s__sky1083__m,s__Under) ))).\n",
      "fof(kb_IRRC_18,axiom,(( s__orientation(s__ground1083__m,s__airplane1083__m,s__Under) ))).\n",
      "fof(kb_IRRC_19,axiom,(( s__orientation(s__ground1083__m,s__building1083__m,s__InFrontOf) ))).\n",
      "fof(kb_IRRC_20,axiom,(( s__orientation(s__ground1083__m,s__road1083__m,s__On) ))).\n",
      "fof(kb_IRRC_21,axiom,(( s__orientation(s__ground1083__m,s__sky1083__m,s__Under) ))).\n",
      "fof(kb_IRRC_22,axiom,(( s__orientation(s__road1083__m,s__airplane1083__m,s__Under) ))).\n",
      "fof(kb_IRRC_23,axiom,(( s__orientation(s__road1083__m,s__building1083__m,s__Under) ))).\n",
      "fof(kb_IRRC_24,axiom,(( s__orientation(s__road1083__m,s__ground1083__m,s__Under) ))).\n",
      "fof(kb_IRRC_25,axiom,(( s__orientation(s__road1083__m,s__sky1083__m,s__Under) ))).\n",
      "fof(kb_IRRC_26,axiom,(( s__orientation(s__sky1083__m,s__airplane1083__m,s__Under) ))).\n",
      "fof(kb_IRRC_27,axiom,(( s__orientation(s__sky1083__m,s__building1083__m,s__Behind) ))).\n",
      "fof(kb_IRRC_28,axiom,(( s__orientation(s__sky1083__m,s__ground1083__m,s__Behind) ))).\n",
      "fof(kb_IRRC_29,axiom,(( s__orientation(s__sky1083__m,s__road1083__m,s__Behind) ))).\n",
      "fof(conj1,conjecture, ( (? [V__X,V__Y] : (s__instance(V__X,s__Building) & s__instance(V__Y,s__Airplane) & s__orientation(V__X,V__Y,s__Behind))) )).\n",
      "               \n",
      "% SZS start BatchConfiguration\n",
      "division.category LTB.SMO\n",
      "output.required Assurance\n",
      "output.desired Proof Answer\n",
      "limit.time.problem.wc 120\n",
      "% SZS end BatchConfiguration\n",
      "% SZS start BatchIncludes\n",
      "include('/var/folders/kx/r8nt6mhx7ql26_9p523dm2j40000gn/T/tmpz44UTI').\n",
      "include('/Users/danilonunes/Documents/sigma/onto/SUMO_UserAssertions.tptp').\n",
      "include('/Users/danilonunes/Documents/sigma/run/KBs/SUMO.tptp').\n",
      "% SZS end BatchIncludes\n",
      "% SZS start BatchProblems\n",
      "/var/folders/kx/r8nt6mhx7ql26_9p523dm2j40000gn/T/tmp2tElVJ /var/folders/kx/r8nt6mhx7ql26_9p523dm2j40000gn/T/tmpS4dRvY\n",
      "% SZS end BatchProblems\n",
      "./../data/prover/E/PROVER/e_ltb_runner /var/folders/kx/r8nt6mhx7ql26_9p523dm2j40000gn/T/tmpKWDexG ../data/prover/E/PROVER/eprover\n",
      "# Parsing /var/folders/kx/r8nt6mhx7ql26_9p523dm2j40000gn/T/tmpz44UTI\n",
      "# Parsing /Users/danilonunes/Documents/sigma/onto/SUMO_UserAssertions.tptp\n",
      "# Parsing /Users/danilonunes/Documents/sigma/run/KBs/SUMO.tptp\n",
      "\n",
      "# Processing /var/folders/kx/r8nt6mhx7ql26_9p523dm2j40000gn/T/tmp2tElVJ -> /var/folders/kx/r8nt6mhx7ql26_9p523dm2j40000gn/T/tmpS4dRvY\n",
      "# SZS status Started for /var/folders/kx/r8nt6mhx7ql26_9p523dm2j40000gn/T/tmp2tElVJ\n",
      "# Filtering for Threshold(10000) (285)\n",
      "# Filtering for GSinE(CountFormulas, hypos, 6.000000, 9223372036854775807, 5, 20000, 1.000000) (285)\n",
      "# Filtering for GSinE(CountFormulas, hypos, 1.200000, 9223372036854775807, 2, 20000, 1.000000) (285)\n",
      "# Filtering for GSinE(CountFormulas, nohypos, 2.000000, 9223372036854775807, 2147483647, 20000, 1.000000) (285)\n",
      "# Filtering for GSinE(CountFormulas, hypos, 2.000000, 9223372036854775807, 3, 20000, 1.000000) (285)\n",
      "# Filtering for GSinE(CountFormulas, hypos, 1.200000, 9223372036854775807, 2147483647, 100, 1.000000) (285)\n",
      "# Filtering for GSinE(CountFormulas, hypos, 5.000000, 9223372036854775807, 4, 20000, 1.000000) (285)\n",
      "# Filtering for GSinE(CountFormulas, nohypos, 1.500000, 9223372036854775807, 2147483647, 20000, 1.000000) (285)\n",
      "# Filtering for GSinE(CountFormulas, hypos, 1.200000, 9223372036854775807, 2147483647, 500, 1.000000) (285)\n",
      "# Filtering for GSinE(CountFormulas, nohypos, 1.200000, 9223372036854775807, 2147483647, 1000, 1.000000) (285)\n",
      "# Filtering for GSinE(CountFormulas, nohypos, 1.200000, 9223372036854775807, 2, 20000, 1.000000 (285)\n",
      "# Filtering for GSinE(CountFormulas, nohypos, 5.000000, 9223372036854775807, 4, 20000, 1.000000 (285)\n",
      "# Filtering for GSinE(CountFormulas, nohypos, 6.000000, 9223372036854775807, 5, 20000, 1.000000 (285)\n",
      "# No proof found by GSinE(CountFormulas, hypos, 1.200000, 9223372036854775807, 2, 20000, 1.000000)\n",
      "# No proof found by GSinE(CountFormulas, nohypos, 1.200000, 9223372036854775807, 2, 20000, 1.000000)\n",
      "# SZS status Theorem for /var/folders/kx/r8nt6mhx7ql26_9p523dm2j40000gn/T/tmp2tElVJ\n",
      "# Solution found by GSinE(CountFormulas, nohypos, 1.200000, 9223372036854775807, 2147483647, 1000, 1.000000) (started 1504612285, remaining 120)\n",
      "# Pid: 52579\n",
      "# Auto-Mode selected heuristic G_E___208_C18_F1_SE_CS_SP_PS_S0Y\n",
      "# and selection function SelectMaxLComplexAvoidPosPred.\n",
      "#\n",
      "# Preprocessing time       : 0.012 s\n",
      "# Presaturation interreduction done\n",
      "# SZS status Theorem\n",
      "# SZS answers Tuple [[s__building378__m, s__airplane378__m]|_]\n",
      "\n",
      "# Proof found!\n",
      "# SZS output start CNFRefutation.\n",
      "fof(c_0_0, conjecture, (?[X1]:?[X2]:((s__instance(X1,s__Building)&s__instance(X2,s__Airplane))&s__orientation(X1,X2,s__Behind))), file('/var/folders/kx/r8nt6mhx7ql26_9p523dm2j40000gn/T//epr_3VfmfR', i_0_9451)).\n",
      "fof(c_0_1, axiom, (s__orientation(s__building378__m,s__airplane378__m,s__Behind)), file('/var/folders/kx/r8nt6mhx7ql26_9p523dm2j40000gn/T//epr_3VfmfR', i_0_73)).\n",
      "fof(c_0_2, axiom, (s__instance(s__airplane378__m,s__Airplane)), file('/var/folders/kx/r8nt6mhx7ql26_9p523dm2j40000gn/T//epr_3VfmfR', i_0_56)).\n",
      "fof(c_0_3, axiom, (s__instance(s__building378__m,s__Building)), file('/var/folders/kx/r8nt6mhx7ql26_9p523dm2j40000gn/T//epr_3VfmfR', i_0_41)).\n",
      "fof(c_0_4, negated_conjecture, (~(?[X1]:?[X2]:(((s__instance(X1,s__Building)&s__instance(X2,s__Airplane))&s__orientation(X1,X2,s__Behind))&~$answer(esk1_2(X1,X2))))), inference(assume_negation,[status(cth)],[inference(add_answer_literal,[status(thm)],[c_0_0, theory(answers)])])).\n",
      "fof(c_0_5, negated_conjecture, (![X3]:![X4]:(((~s__instance(X3,s__Building)|~s__instance(X4,s__Airplane))|~s__orientation(X3,X4,s__Behind))|$answer(esk1_2(X3,X4)))), inference(variable_rename,[status(thm)],[inference(fof_nnf,[status(thm)],[c_0_4])])).\n",
      "cnf(c_0_6, negated_conjecture, ($answer(esk1_2(X1,X2))|~s__orientation(X1,X2,s__Behind)|~s__instance(X2,s__Airplane)|~s__instance(X1,s__Building)), inference(split_conjunct,[status(thm)],[c_0_5])).\n",
      "cnf(c_0_7, plain, (s__orientation(s__building378__m,s__airplane378__m,s__Behind)), inference(split_conjunct,[status(thm)],[c_0_1])).\n",
      "cnf(c_0_8, plain, (s__instance(s__airplane378__m,s__Airplane)), inference(split_conjunct,[status(thm)],[c_0_2])).\n",
      "cnf(c_0_9, plain, (s__instance(s__building378__m,s__Building)), inference(split_conjunct,[status(thm)],[c_0_3])).\n",
      "cnf(c_0_10, negated_conjecture, ($false), inference(eval_answer_literal,[status(thm)],[inference(cn,[status(thm)],[inference(rw,[status(thm)],[inference(rw,[status(thm)],[inference(spm,[status(thm)],[c_0_6, c_0_7]), c_0_8]), c_0_9])]), theory(answers)]), ['proof']).\n",
      "# SZS output end CNFRefutation.\n",
      "\n",
      "# -------------------------------------------------\n",
      "# User time                : 0.015 s\n",
      "# System time              : 0.002 s\n",
      "# Total time               : 0.016 s\n",
      "# Maximum resident set size: 3796992 pages\n",
      "# SZS status Ended for /var/folders/kx/r8nt6mhx7ql26_9p523dm2j40000gn/T/tmp2tElVJ\n",
      "\n",
      "\n",
      "\n",
      "# == WCT:    0s, Solved:    1/   1    ==\n",
      "# =============== Batch done ===========\n",
      "\n",
      "\n"
     ]
    },
    {
     "data": {
      "text/plain": [
       "True"
      ]
     },
     "execution_count": 18,
     "metadata": {},
     "output_type": "execute_result"
    }
   ],
   "source": [
    "# img = retrieved['building-behind-airplane'][0]\n",
    "# print img\n",
    "kb.prover('a_airport_IMG_2368.jpg', 'building-behind-airplane', verbose=True)"
   ]
  },
  {
   "cell_type": "code",
   "execution_count": null,
   "metadata": {
    "collapsed": false
   },
   "outputs": [
    {
     "name": "stdout",
     "output_type": "stream",
     "text": [
      "\n",
      "Something went wrong with image: a_access_road_slip_road_000012.jpg, index: 1024\n",
      "Something went wrong with image: s_student_residence_student_residence_000012.jpg, index: 1355\n"
     ]
    }
   ],
   "source": [
    "proof = kb.runquery('building-behind-airplane', verbose=False)"
   ]
  },
  {
   "cell_type": "code",
   "execution_count": 34,
   "metadata": {
    "collapsed": true
   },
   "outputs": [],
   "source": [
    "dfx = pd.read_csv('../data/preposition/index-0.900.csv')"
   ]
  },
  {
   "cell_type": "code",
   "execution_count": 39,
   "metadata": {
    "collapsed": false
   },
   "outputs": [
    {
     "name": "stderr",
     "output_type": "stream",
     "text": [
      "/usr/local/lib/python2.7/site-packages/ipykernel/__main__.py:1: UserWarning: Boolean Series key will be reindexed to match DataFrame index.\n",
      "  if __name__ == '__main__':\n"
     ]
    },
    {
     "data": {
      "text/html": [
       "<div>\n",
       "<table border=\"1\" class=\"dataframe\">\n",
       "  <thead>\n",
       "    <tr style=\"text-align: right;\">\n",
       "      <th></th>\n",
       "      <th>Unnamed: 0</th>\n",
       "      <th>preposition</th>\n",
       "      <th>object1</th>\n",
       "      <th>object2</th>\n",
       "      <th>score</th>\n",
       "      <th>image</th>\n",
       "    </tr>\n",
       "  </thead>\n",
       "  <tbody>\n",
       "    <tr>\n",
       "      <th>6</th>\n",
       "      <td>6.0</td>\n",
       "      <td>on</td>\n",
       "      <td>building</td>\n",
       "      <td>grass</td>\n",
       "      <td>0.903399765491</td>\n",
       "      <td>a_abbey_abbey_000001.jpg</td>\n",
       "    </tr>\n",
       "    <tr>\n",
       "      <th>7</th>\n",
       "      <td>7.0</td>\n",
       "      <td>behind</td>\n",
       "      <td>building</td>\n",
       "      <td>path</td>\n",
       "      <td>0.440202414989</td>\n",
       "      <td>a_abbey_abbey_000001.jpg</td>\n",
       "    </tr>\n",
       "    <tr>\n",
       "      <th>8</th>\n",
       "      <td>8.0</td>\n",
       "      <td>under</td>\n",
       "      <td>building</td>\n",
       "      <td>sky</td>\n",
       "      <td>0.997193396091</td>\n",
       "      <td>a_abbey_abbey_000001.jpg</td>\n",
       "    </tr>\n",
       "    <tr>\n",
       "      <th>9</th>\n",
       "      <td>9.0</td>\n",
       "      <td>on</td>\n",
       "      <td>building</td>\n",
       "      <td>tree</td>\n",
       "      <td>0.463992267847</td>\n",
       "      <td>a_abbey_abbey_000001.jpg</td>\n",
       "    </tr>\n",
       "    <tr>\n",
       "      <th>11</th>\n",
       "      <td>11.0</td>\n",
       "      <td>below</td>\n",
       "      <td>grass</td>\n",
       "      <td>building</td>\n",
       "      <td>0.330984830856</td>\n",
       "      <td>a_abbey_abbey_000001.jpg</td>\n",
       "    </tr>\n",
       "  </tbody>\n",
       "</table>\n",
       "</div>"
      ],
      "text/plain": [
       "    Unnamed: 0 preposition   object1   object2           score  \\\n",
       "6          6.0          on  building     grass  0.903399765491   \n",
       "7          7.0      behind  building      path  0.440202414989   \n",
       "8          8.0       under  building       sky  0.997193396091   \n",
       "9          9.0          on  building      tree  0.463992267847   \n",
       "11        11.0       below     grass  building  0.330984830856   \n",
       "\n",
       "                       image  \n",
       "6   a_abbey_abbey_000001.jpg  \n",
       "7   a_abbey_abbey_000001.jpg  \n",
       "8   a_abbey_abbey_000001.jpg  \n",
       "9   a_abbey_abbey_000001.jpg  \n",
       "11  a_abbey_abbey_000001.jpg  "
      ]
     },
     "execution_count": 39,
     "metadata": {},
     "output_type": "execute_result"
    }
   ],
   "source": [
    "dfx[dfx.object1 != '__background__'][dfx.object2 != '__background__'].head()"
   ]
  },
  {
   "cell_type": "code",
   "execution_count": 40,
   "metadata": {
    "collapsed": true
   },
   "outputs": [],
   "source": [
    "batch = \"\\n\".join([\"% SZS start BatchConfiguration\",\n",
    "                   \"division.category LTB.SMO\",\n",
    "                   \"output.required Assurance\",\n",
    "                   \"output.desired Proof Answer\",\n",
    "                   \"limit.time.problem.wc 120\",\n",
    "                   \"% SZS end BatchConfiguration\",\n",
    "                   \"% SZS start BatchIncludes\",\n",
    "                   \"include('{tptp}').\",\n",
    "                   \"include('{user}').\",\n",
    "                   \"include('{sumo}').\",\n",
    "                   \"% SZS end BatchIncludes\",\n",
    "                   \"% SZS start BatchProblems\",\n",
    "                   \"{problems} {answers}\",\n",
    "                   \"% SZS end BatchProblems\"])"
   ]
  },
  {
   "cell_type": "code",
   "execution_count": 42,
   "metadata": {
    "collapsed": false
   },
   "outputs": [
    {
     "name": "stdout",
     "output_type": "stream",
     "text": [
      "% SZS start BatchConfiguration\n",
      "division.category LTB.SMO\n",
      "output.required Assurance\n",
      "output.desired Proof Answer\n",
      "limit.time.problem.wc 120\n",
      "% SZS end BatchConfiguration\n",
      "% SZS start BatchIncludes\n",
      "include('{tptp}').\n",
      "include('{user}').\n",
      "include('{sumo}').\n",
      "% SZS end BatchIncludes\n",
      "% SZS start BatchProblems\n",
      "{problems} {answers}\n",
      "% SZS end BatchProblems\n"
     ]
    }
   ],
   "source": [
    "print batch"
   ]
  },
  {
   "cell_type": "code",
   "execution_count": null,
   "metadata": {
    "collapsed": true
   },
   "outputs": [],
   "source": []
  }
 ],
 "metadata": {
  "kernelspec": {
   "display_name": "Python 2",
   "language": "python",
   "name": "python2"
  },
  "language_info": {
   "codemirror_mode": {
    "name": "ipython",
    "version": 2
   },
   "file_extension": ".py",
   "mimetype": "text/x-python",
   "name": "python",
   "nbconvert_exporter": "python",
   "pygments_lexer": "ipython2",
   "version": "2.7.13"
  }
 },
 "nbformat": 4,
 "nbformat_minor": 0
}
