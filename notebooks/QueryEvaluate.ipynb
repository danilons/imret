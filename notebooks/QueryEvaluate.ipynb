{
 "cells": [
  {
   "cell_type": "code",
   "execution_count": 1,
   "metadata": {
    "collapsed": true
   },
   "outputs": [],
   "source": [
    "import pandas as pd\n",
    "from imret.query import KnowledgeBase"
   ]
  },
  {
   "cell_type": "code",
   "execution_count": 2,
   "metadata": {
    "collapsed": true
   },
   "outputs": [],
   "source": [
    "df = pd.read_csv('../data/preposition/index.csv')"
   ]
  },
  {
   "cell_type": "code",
   "execution_count": 3,
   "metadata": {
    "collapsed": true
   },
   "outputs": [],
   "source": [
    "kb = KnowledgeBase(df, ltb_runner='../data/prover/E/PROVER/e_ltb_runner',\n",
    "                   eprover='../data/prover/E/PROVER/eprover',\n",
    "                   sumo='/Users/danilonunes/Documents/sigma/run/KBs/SUMO.tptp')"
   ]
  },
  {
   "cell_type": "code",
   "execution_count": 4,
   "metadata": {
    "collapsed": false
   },
   "outputs": [
    {
     "name": "stdout",
     "output_type": "stream",
     "text": [
      "fof(conj1,conjecture, ( s__orientation(s__car0__m,s__road0__m,s__On) )).\n"
     ]
    }
   ],
   "source": [
    "query = kb.tptp_query('car', 'road', 'on')\n",
    "print query"
   ]
  },
  {
   "cell_type": "code",
   "execution_count": 5,
   "metadata": {
    "collapsed": false
   },
   "outputs": [
    {
     "data": {
      "text/plain": [
       "'b_building_facade_insidecity_hous79.jpg'"
      ]
     },
     "execution_count": 5,
     "metadata": {},
     "output_type": "execute_result"
    }
   ],
   "source": [
    "kb.images[0]"
   ]
  },
  {
   "cell_type": "code",
   "execution_count": 6,
   "metadata": {
    "collapsed": true
   },
   "outputs": [],
   "source": [
    "image = kb.images[0]"
   ]
  },
  {
   "cell_type": "code",
   "execution_count": 7,
   "metadata": {
    "collapsed": false
   },
   "outputs": [],
   "source": [
    "# print \"\\n\".join(list(kb.tptp_by_image(image)))"
   ]
  },
  {
   "cell_type": "code",
   "execution_count": 8,
   "metadata": {
    "collapsed": false
   },
   "outputs": [],
   "source": [
    "image, data, response = kb.prover(image, query='car-on-road')"
   ]
  },
  {
   "cell_type": "code",
   "execution_count": 9,
   "metadata": {
    "collapsed": false
   },
   "outputs": [
    {
     "data": {
      "text/plain": [
       "True"
      ]
     },
     "execution_count": 9,
     "metadata": {},
     "output_type": "execute_result"
    }
   ],
   "source": [
    "data"
   ]
  },
  {
   "cell_type": "code",
   "execution_count": 13,
   "metadata": {
    "collapsed": false
   },
   "outputs": [
    {
     "name": "stdout",
     "output_type": "stream",
     "text": [
      "# Parsing /Users/danilonunes/Documents/sigma/run/KBs/SUMO.tptp\n",
      "# Parsing /var/folders/kx/r8nt6mhx7ql26_9p523dm2j40000gn/T/tmpB_j6If\n",
      "\n",
      "# Processing /var/folders/kx/r8nt6mhx7ql26_9p523dm2j40000gn/T/tmpjw2BXg -> /var/folders/kx/r8nt6mhx7ql26_9p523dm2j40000gn/T/tmpGUnOZq\n",
      "# SZS status Started for /var/folders/kx/r8nt6mhx7ql26_9p523dm2j40000gn/T/tmpjw2BXg\n",
      "# Filtering for Threshold(10000) (556)\n",
      "# Filtering for GSinE(CountFormulas, hypos, 6.000000, 9223372036854775807, 5, 20000, 1.000000) (556)\n",
      "# Filtering for GSinE(CountFormulas, hypos, 1.200000, 9223372036854775807, 2, 20000, 1.000000) (556)\n",
      "# Filtering for GSinE(CountFormulas, nohypos, 2.000000, 9223372036854775807, 2147483647, 20000, 1.000000) (556)\n",
      "# Filtering for GSinE(CountFormulas, hypos, 2.000000, 9223372036854775807, 3, 20000, 1.000000) (556)\n",
      "# Filtering for GSinE(CountFormulas, hypos, 1.200000, 9223372036854775807, 2147483647, 100, 1.000000) (556)\n",
      "# Filtering for GSinE(CountFormulas, hypos, 5.000000, 9223372036854775807, 4, 20000, 1.000000) (556)\n",
      "# Filtering for GSinE(CountFormulas, nohypos, 1.500000, 9223372036854775807, 2147483647, 20000, 1.000000) (556)\n",
      "# Filtering for GSinE(CountFormulas, hypos, 1.200000, 9223372036854775807, 2147483647, 500, 1.000000) (556)\n",
      "# Filtering for GSinE(CountFormulas, nohypos, 1.200000, 9223372036854775807, 2147483647, 1000, 1.000000) (556)\n",
      "# Filtering for GSinE(CountFormulas, nohypos, 1.200000, 9223372036854775807, 2, 20000, 1.000000 (556)\n",
      "# Filtering for GSinE(CountFormulas, nohypos, 5.000000, 9223372036854775807, 4, 20000, 1.000000 (556)\n",
      "# Filtering for GSinE(CountFormulas, nohypos, 6.000000, 9223372036854775807, 5, 20000, 1.000000 (556)\n",
      "# SZS status Theorem for /var/folders/kx/r8nt6mhx7ql26_9p523dm2j40000gn/T/tmpjw2BXg\n",
      "# Solution found by GSinE(CountFormulas, nohypos, 1.200000, 9223372036854775807, 2, 20000, 1.000000) (started 1494477556, remaining 60)\n",
      "# Pid: 7358\n",
      "# Auto-Mode selected heuristic G_E___208_C18_F1_SE_CS_SP_PS_S0Y\n",
      "# and selection function SelectMaxLComplexAvoidPosPred.\n",
      "#\n",
      "# Preprocessing time       : 0.010 s\n",
      "# Presaturation interreduction done\n",
      "\n",
      "# Proof found!\n",
      "# SZS status Theorem\n",
      "# SZS output start CNFRefutation.\n",
      "fof(c_0_0, conjecture, (s__orientation(s__car0__m,s__road0__m,s__On)), file('/var/folders/kx/r8nt6mhx7ql26_9p523dm2j40000gn/T//epr_weWule', i_0_9495)).\n",
      "fof(c_0_1, axiom, (s__orientation(s__car0__m,s__road0__m,s__On)), file('/var/folders/kx/r8nt6mhx7ql26_9p523dm2j40000gn/T//epr_weWule', i_0_9480)).\n",
      "fof(c_0_2, negated_conjecture, (~s__orientation(s__car0__m,s__road0__m,s__On)), inference(fof_simplification,[status(thm)],[inference(assume_negation,[status(cth)],[inference(add_answer_literal,[status(thm)],[c_0_0, theory(answers)])])])).\n",
      "cnf(c_0_3, negated_conjecture, (~s__orientation(s__car0__m,s__road0__m,s__On)), inference(split_conjunct,[status(thm)],[c_0_2])).\n",
      "cnf(c_0_4, plain, (s__orientation(s__car0__m,s__road0__m,s__On)), inference(split_conjunct,[status(thm)],[c_0_1])).\n",
      "cnf(c_0_5, negated_conjecture, ($false), inference(cn,[status(thm)],[inference(rw,[status(thm)],[c_0_3, c_0_4])]), ['proof']).\n",
      "# SZS output end CNFRefutation.\n",
      "\n",
      "# -------------------------------------------------\n",
      "# User time                : 0.009 s\n",
      "# System time              : 0.002 s\n",
      "# Total time               : 0.010 s\n",
      "# Maximum resident set size: 3248128 pages\n",
      "# SZS status Ended for /var/folders/kx/r8nt6mhx7ql26_9p523dm2j40000gn/T/tmpjw2BXg\n",
      "\n",
      "\n",
      "\n",
      "# == WCT:    0s, Solved:    1/   1    ==\n",
      "# =============== Batch done ===========\n",
      "\n",
      "\n"
     ]
    }
   ],
   "source": [
    "print response"
   ]
  },
  {
   "cell_type": "code",
   "execution_count": 11,
   "metadata": {
    "collapsed": false
   },
   "outputs": [
    {
     "name": "stdout",
     "output_type": "stream",
     "text": [
      "% SZS start BatchConfiguration\r\n",
      "division.category LTB.SMO\r\n",
      "output.required Assurance\r\n",
      "output.desired Proof Answer\r\n",
      "limit.time.problem.wc 60\r\n",
      "% SZS end BatchConfiguration\r\n",
      "% SZS start BatchIncludes\r\n",
      "include('/Users/danilonunes/Documents/sigma/run/KBs/SUMO.tptp').\r\n",
      "include('/var/folders/kx/r8nt6mhx7ql26_9p523dm2j40000gn/T/tmpfiR15I').\r\n",
      "% SZS end BatchIncludes\r\n",
      "% SZS start BatchProblems\r\n",
      "/Users/danilonunes/workspace/imret2/Problems.p Answers.p \r\n",
      "% SZS end BatchProblems\r\n"
     ]
    }
   ],
   "source": [
    "!cat /var/folders/kx/r8nt6mhx7ql26_9p523dm2j40000gn/T/tmp0TwdGk"
   ]
  },
  {
   "cell_type": "code",
   "execution_count": 12,
   "metadata": {
    "collapsed": false
   },
   "outputs": [
    {
     "name": "stdout",
     "output_type": "stream",
     "text": [
      "cat: /var/folders/kx/r8nt6mhx7ql26_9p523dm2j40000gn/T/tmptdQV2L: No such file or directory\r\n"
     ]
    }
   ],
   "source": [
    "!cat /var/folders/kx/r8nt6mhx7ql26_9p523dm2j40000gn/T/tmptdQV2L"
   ]
  },
  {
   "cell_type": "code",
   "execution_count": null,
   "metadata": {
    "collapsed": true
   },
   "outputs": [],
   "source": []
  }
 ],
 "metadata": {
  "kernelspec": {
   "display_name": "Python 2",
   "language": "python",
   "name": "python2"
  },
  "language_info": {
   "codemirror_mode": {
    "name": "ipython",
    "version": 2
   },
   "file_extension": ".py",
   "mimetype": "text/x-python",
   "name": "python",
   "nbconvert_exporter": "python",
   "pygments_lexer": "ipython2",
   "version": "2.7.11"
  }
 },
 "nbformat": 4,
 "nbformat_minor": 0
}
