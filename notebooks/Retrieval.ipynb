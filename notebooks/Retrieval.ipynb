{
 "cells": [
  {
   "cell_type": "code",
   "execution_count": 1,
   "metadata": {
    "collapsed": true
   },
   "outputs": [],
   "source": [
    "from __future__ import division\n",
    "import pandas as pd"
   ]
  },
  {
   "cell_type": "code",
   "execution_count": 2,
   "metadata": {
    "collapsed": true
   },
   "outputs": [],
   "source": [
    "import cytoolz\n",
    "from imret.query import Annotation\n",
    "from imret.dataset import Dataset\n",
    "from imret.color import ColorPalette"
   ]
  },
  {
   "cell_type": "code",
   "execution_count": 3,
   "metadata": {
    "collapsed": true
   },
   "outputs": [],
   "source": [
    "db = Dataset('../data/datasets/', 'test', '../data/images/')\n",
    "# qa = Annotation('../data/query/test_anno/')\n",
    "qa = Annotation('../data/corrected_test_anno/')"
   ]
  },
  {
   "cell_type": "code",
   "execution_count": 4,
   "metadata": {
    "collapsed": true
   },
   "outputs": [],
   "source": [
    "scores = {}"
   ]
  },
  {
   "cell_type": "code",
   "execution_count": 11,
   "metadata": {
    "collapsed": false
   },
   "outputs": [
    {
     "data": {
      "text/html": [
       "<div>\n",
       "<table border=\"1\" class=\"dataframe\">\n",
       "  <thead>\n",
       "    <tr style=\"text-align: right;\">\n",
       "      <th></th>\n",
       "      <th>image</th>\n",
       "      <th>scene</th>\n",
       "      <th>est</th>\n",
       "      <th>preposition</th>\n",
       "      <th>object1</th>\n",
       "      <th>object2</th>\n",
       "      <th>score</th>\n",
       "    </tr>\n",
       "  </thead>\n",
       "  <tbody>\n",
       "    <tr>\n",
       "      <th>0</th>\n",
       "      <td>a_airlock_airlock_000212.jpg</td>\n",
       "      <td>indoor</td>\n",
       "      <td>indoor</td>\n",
       "      <td>above</td>\n",
       "      <td>chair</td>\n",
       "      <td>floor</td>\n",
       "      <td>0.503983</td>\n",
       "    </tr>\n",
       "    <tr>\n",
       "      <th>1</th>\n",
       "      <td>a_airlock_airlock_000212.jpg</td>\n",
       "      <td>indoor</td>\n",
       "      <td>indoor</td>\n",
       "      <td>under</td>\n",
       "      <td>chair</td>\n",
       "      <td>table</td>\n",
       "      <td>0.721167</td>\n",
       "    </tr>\n",
       "    <tr>\n",
       "      <th>2</th>\n",
       "      <td>a_airlock_airlock_000212.jpg</td>\n",
       "      <td>indoor</td>\n",
       "      <td>indoor</td>\n",
       "      <td>in</td>\n",
       "      <td>chair</td>\n",
       "      <td>wall</td>\n",
       "      <td>0.287512</td>\n",
       "    </tr>\n",
       "    <tr>\n",
       "      <th>3</th>\n",
       "      <td>a_airlock_airlock_000212.jpg</td>\n",
       "      <td>indoor</td>\n",
       "      <td>indoor</td>\n",
       "      <td>under</td>\n",
       "      <td>floor</td>\n",
       "      <td>chair</td>\n",
       "      <td>0.608941</td>\n",
       "    </tr>\n",
       "    <tr>\n",
       "      <th>4</th>\n",
       "      <td>a_airlock_airlock_000212.jpg</td>\n",
       "      <td>indoor</td>\n",
       "      <td>indoor</td>\n",
       "      <td>under</td>\n",
       "      <td>floor</td>\n",
       "      <td>table</td>\n",
       "      <td>0.605973</td>\n",
       "    </tr>\n",
       "  </tbody>\n",
       "</table>\n",
       "</div>"
      ],
      "text/plain": [
       "                          image   scene     est preposition object1 object2  \\\n",
       "0  a_airlock_airlock_000212.jpg  indoor  indoor       above   chair   floor   \n",
       "1  a_airlock_airlock_000212.jpg  indoor  indoor       under   chair   table   \n",
       "2  a_airlock_airlock_000212.jpg  indoor  indoor          in   chair    wall   \n",
       "3  a_airlock_airlock_000212.jpg  indoor  indoor       under   floor   chair   \n",
       "4  a_airlock_airlock_000212.jpg  indoor  indoor       under   floor   table   \n",
       "\n",
       "      score  \n",
       "0  0.503983  \n",
       "1  0.721167  \n",
       "2  0.287512  \n",
       "3  0.608941  \n",
       "4  0.605973  "
      ]
     },
     "execution_count": 11,
     "metadata": {},
     "output_type": "execute_result"
    }
   ],
   "source": [
    "df = pd.read_csv('../tasks/scene_index.csv')\n",
    "df.head()"
   ]
  },
  {
   "cell_type": "code",
   "execution_count": 12,
   "metadata": {
    "collapsed": false
   },
   "outputs": [
    {
     "name": "stdout",
     "output_type": "stream",
     "text": [
      "plant-behind-rocks\n"
     ]
    }
   ],
   "source": [
    "query = qa.db.keys()[6]\n",
    "noun1, preposition, noun2 = query.split('-')\n",
    "print query"
   ]
  },
  {
   "cell_type": "code",
   "execution_count": 13,
   "metadata": {
    "collapsed": false
   },
   "outputs": [
    {
     "ename": "NameError",
     "evalue": "name 'inv_labels' is not defined",
     "output_type": "error",
     "traceback": [
      "\u001b[0;31m---------------------------------------------------------------------------\u001b[0m",
      "\u001b[0;31mNameError\u001b[0m                                 Traceback (most recent call last)",
      "\u001b[0;32m<ipython-input-13-3629f57a750b>\u001b[0m in \u001b[0;36m<module>\u001b[0;34m()\u001b[0m\n\u001b[1;32m      7\u001b[0m \u001b[0;34m\u001b[0m\u001b[0m\n\u001b[1;32m      8\u001b[0m \u001b[0mscene\u001b[0m \u001b[0;34m=\u001b[0m \u001b[0mNone\u001b[0m\u001b[0;34m\u001b[0m\u001b[0m\n\u001b[0;32m----> 9\u001b[0;31m \u001b[0;32mif\u001b[0m \u001b[0mnoun1\u001b[0m \u001b[0;32min\u001b[0m \u001b[0minv_labels\u001b[0m\u001b[0;34m[\u001b[0m\u001b[0;34m'indoor'\u001b[0m\u001b[0;34m]\u001b[0m \u001b[0;32mand\u001b[0m \u001b[0mnoun2\u001b[0m \u001b[0;32min\u001b[0m \u001b[0minv_labels\u001b[0m\u001b[0;34m[\u001b[0m\u001b[0;34m'indoor'\u001b[0m\u001b[0;34m]\u001b[0m\u001b[0;34m:\u001b[0m\u001b[0;34m\u001b[0m\u001b[0m\n\u001b[0m\u001b[1;32m     10\u001b[0m     \u001b[0mscene\u001b[0m \u001b[0;34m=\u001b[0m \u001b[0;34m'indoor'\u001b[0m\u001b[0;34m\u001b[0m\u001b[0m\n\u001b[1;32m     11\u001b[0m \u001b[0;32melif\u001b[0m \u001b[0mnoun1\u001b[0m \u001b[0;32min\u001b[0m \u001b[0minv_labels\u001b[0m\u001b[0;34m[\u001b[0m\u001b[0;34m'outdoor'\u001b[0m\u001b[0;34m]\u001b[0m \u001b[0;32mand\u001b[0m \u001b[0mnoun2\u001b[0m \u001b[0;32min\u001b[0m \u001b[0minv_labels\u001b[0m\u001b[0;34m[\u001b[0m\u001b[0;34m'outdoor'\u001b[0m\u001b[0;34m]\u001b[0m\u001b[0;34m:\u001b[0m\u001b[0;34m\u001b[0m\u001b[0m\n",
      "\u001b[0;31mNameError\u001b[0m: name 'inv_labels' is not defined"
     ]
    }
   ],
   "source": [
    "# noun1 = noun1.replace('flowers', 'flower').replace('rocks', 'rock').replace('cars', 'car')\n",
    "# noun2 = noun2.replace('flowers', 'flower').replace('rocks', 'rock').replace('cars', 'car')\n",
    "# preposition = preposition.replace('_', ' ')\n",
    "noun1 = 'grass'\n",
    "noun2 = 'rock'\n",
    "preposition = 'behind'\n",
    "\n",
    "scene = None\n",
    "if noun1 in inv_labels['indoor'] and noun2 in inv_labels['indoor']:\n",
    "    scene = 'indoor'\n",
    "elif noun1 in inv_labels['outdoor'] and noun2 in inv_labels['outdoor']:\n",
    "    scene = 'outdoor'\n",
    "    \n",
    "print \"scene\", scene\n",
    "    \n",
    "valid = df[(df.object1 == noun1) & \n",
    "           (df.object2 == noun2) &\n",
    "           (df.preposition == preposition) &\n",
    "           (df.est == scene)][['image', 'score', 'preposition']]"
   ]
  },
  {
   "cell_type": "code",
   "execution_count": 14,
   "metadata": {
    "collapsed": false
   },
   "outputs": [
    {
     "ename": "NameError",
     "evalue": "name 'valid' is not defined",
     "output_type": "error",
     "traceback": [
      "\u001b[0;31m---------------------------------------------------------------------------\u001b[0m",
      "\u001b[0;31mNameError\u001b[0m                                 Traceback (most recent call last)",
      "\u001b[0;32m<ipython-input-14-2c4649d281c4>\u001b[0m in \u001b[0;36m<module>\u001b[0;34m()\u001b[0m\n\u001b[0;32m----> 1\u001b[0;31m \u001b[0mvalid\u001b[0m\u001b[0;34m.\u001b[0m\u001b[0mdrop_duplicates\u001b[0m\u001b[0;34m(\u001b[0m\u001b[0;34m'image'\u001b[0m\u001b[0;34m,\u001b[0m \u001b[0minplace\u001b[0m\u001b[0;34m=\u001b[0m\u001b[0mTrue\u001b[0m\u001b[0;34m)\u001b[0m\u001b[0;34m\u001b[0m\u001b[0m\n\u001b[0m\u001b[1;32m      2\u001b[0m \u001b[0mretrieved\u001b[0m\u001b[0;34m,\u001b[0m \u001b[0mrelevance\u001b[0m \u001b[0;34m=\u001b[0m \u001b[0mvalid\u001b[0m\u001b[0;34m[\u001b[0m\u001b[0;34m'image'\u001b[0m\u001b[0;34m]\u001b[0m\u001b[0;34m.\u001b[0m\u001b[0mvalues\u001b[0m\u001b[0;34m,\u001b[0m \u001b[0mvalid\u001b[0m\u001b[0;34m[\u001b[0m\u001b[0;34m'score'\u001b[0m\u001b[0;34m]\u001b[0m\u001b[0;34m.\u001b[0m\u001b[0mvalues\u001b[0m\u001b[0;34m\u001b[0m\u001b[0m\n\u001b[1;32m      3\u001b[0m \u001b[0;32mprint\u001b[0m \u001b[0mlen\u001b[0m\u001b[0;34m(\u001b[0m\u001b[0mretrieved\u001b[0m\u001b[0;34m)\u001b[0m\u001b[0;34m,\u001b[0m \u001b[0mset\u001b[0m\u001b[0;34m(\u001b[0m\u001b[0mvalid\u001b[0m\u001b[0;34m.\u001b[0m\u001b[0mpreposition\u001b[0m\u001b[0;34m)\u001b[0m\u001b[0;34m\u001b[0m\u001b[0m\n",
      "\u001b[0;31mNameError\u001b[0m: name 'valid' is not defined"
     ]
    }
   ],
   "source": [
    "valid.drop_duplicates('image', inplace=True)\n",
    "retrieved, relevance = valid['image'].values, valid['score'].values\n",
    "print len(retrieved), set(valid.preposition)"
   ]
  },
  {
   "cell_type": "code",
   "execution_count": 3828,
   "metadata": {
    "collapsed": false
   },
   "outputs": [],
   "source": [
    "tp = len(set(qa.db[query]) & set(retrieved))\n",
    "fp = len(retrieved) - tp\n",
    "tn = len(set(db.images).difference(set(retrieved)).difference(set(qa.db[query])))\n",
    "fn = len(qa.db[query]) - tp"
   ]
  },
  {
   "cell_type": "code",
   "execution_count": 3829,
   "metadata": {
    "collapsed": false
   },
   "outputs": [
    {
     "name": "stdout",
     "output_type": "stream",
     "text": [
      "1 56 4255 5 6\n"
     ]
    }
   ],
   "source": [
    "print tp, fp, tn, fn, len(qa.db[query])"
   ]
  },
  {
   "cell_type": "code",
   "execution_count": 3830,
   "metadata": {
    "collapsed": false
   },
   "outputs": [],
   "source": [
    "import numpy as np\n",
    "\n",
    "def apk(actual, predicted, k=4317):\n",
    "    if len(predicted)>k:\n",
    "        predicted = predicted[:k]\n",
    "\n",
    "    score = 0.0\n",
    "    num_hits = 0.0\n",
    "\n",
    "    for i,p in enumerate(predicted):\n",
    "        if p in actual and p not in predicted[:i]:\n",
    "            num_hits += 1.0\n",
    "            score += num_hits / (i+1.0)\n",
    "        \n",
    "    if not actual:\n",
    "        return 0.0\n",
    "\n",
    "    return score / min(len(actual), k)\n",
    "\n",
    "def mapk(actual, predicted, k=10):\n",
    "    return np.mean([apk(a,p,k) for a,p in zip(actual, predicted)])"
   ]
  },
  {
   "cell_type": "code",
   "execution_count": 3831,
   "metadata": {
    "collapsed": true
   },
   "outputs": [],
   "source": [
    "def c_apk(expected, predicted, k=4317):\n",
    "    retrieved = np.array([ret in expected for ret in predicted[:k]]).astype(np.int32)\n",
    "    if retrieved.sum() == 0:\n",
    "        return 0.0\n",
    "    \n",
    "    scores = np.arange(len(retrieved)) + 1\n",
    "    valids = np.where(retrieved > 0)\n",
    "    return np.sum(np.cumsum(retrieved[valids]) / scores[valids].astype(np.float32)) / float(min(len(expected), k))\n"
   ]
  },
  {
   "cell_type": "code",
   "execution_count": 3832,
   "metadata": {
    "collapsed": false
   },
   "outputs": [
    {
     "name": "stdout",
     "output_type": "stream",
     "text": [
      "0.00396825396825\n",
      "0.00396825396825\n"
     ]
    }
   ],
   "source": [
    "print apk(qa.db[query], retrieved, k=5000)\n",
    "print c_apk(qa.db[query], retrieved, k=5000)\n",
    "scores[query] = c_apk(qa.db[query], retrieved, k=5000)"
   ]
  },
  {
   "cell_type": "code",
   "execution_count": 3833,
   "metadata": {
    "collapsed": false
   },
   "outputs": [
    {
     "name": "stdout",
     "output_type": "stream",
     "text": [
      "0.0951124235035\n",
      "0.0839227266207\n"
     ]
    }
   ],
   "source": [
    "print np.mean([sc for sc in scores.values() if sc > 0])\n",
    "print np.mean(scores.values())"
   ]
  },
  {
   "cell_type": "code",
   "execution_count": 3834,
   "metadata": {
    "collapsed": true
   },
   "outputs": [],
   "source": [
    "import os"
   ]
  },
  {
   "cell_type": "code",
   "execution_count": 3835,
   "metadata": {
    "collapsed": true
   },
   "outputs": [],
   "source": [
    "freqs = {}\n",
    "def filter_by_area(retrieved, noun1, noun2, scene, area1=10000, area2=10000):\n",
    "    for imname in retrieved:\n",
    "        name = os.path.join('../data/scene/output-seg/{scene}-bw/'.format(scene=scene), imname.replace('.jpg', '.png'))\n",
    "        freq = freqs.get(name, None)\n",
    "        \n",
    "        if freq is None:\n",
    "            img = cv2.imread(name, 0)\n",
    "            if img is None:\n",
    "                continue\n",
    "            freq = cytoolz.frequencies(img.flatten())\n",
    "            \n",
    "        freqs[name] = freq\n",
    "        \n",
    "        if freq[inv_labels[scene][noun1]] > area1 and freq[inv_labels[scene][noun2]] > area2:\n",
    "            yield imname"
   ]
  },
  {
   "cell_type": "code",
   "execution_count": 3836,
   "metadata": {
    "collapsed": false
   },
   "outputs": [
    {
     "name": "stdout",
     "output_type": "stream",
     "text": [
      "32\n"
     ]
    }
   ],
   "source": [
    "retrieved_filtered = list(filter_by_area(retrieved, noun1, noun2, scene=scene, area1=1000, area2=1000))\n",
    "print(len(retrieved_filtered))"
   ]
  },
  {
   "cell_type": "code",
   "execution_count": 16,
   "metadata": {
    "collapsed": true
   },
   "outputs": [],
   "source": [
    "%matplotlib inline\n",
    "import matplotlib.pyplot as plt\n",
    "import cv2"
   ]
  },
  {
   "cell_type": "code",
   "execution_count": 17,
   "metadata": {
    "collapsed": false
   },
   "outputs": [
    {
     "ename": "NameError",
     "evalue": "name 'np' is not defined",
     "output_type": "error",
     "traceback": [
      "\u001b[0;31m---------------------------------------------------------------------------\u001b[0m",
      "\u001b[0;31mNameError\u001b[0m                                 Traceback (most recent call last)",
      "\u001b[0;32m<ipython-input-17-26557142988c>\u001b[0m in \u001b[0;36m<module>\u001b[0;34m()\u001b[0m\n\u001b[1;32m      1\u001b[0m \u001b[0;32mwith\u001b[0m \u001b[0mopen\u001b[0m\u001b[0;34m(\u001b[0m\u001b[0;34m\"../data/scene/outdoor/palette.txt\"\u001b[0m\u001b[0;34m,\u001b[0m \u001b[0;34m\"r\"\u001b[0m\u001b[0;34m)\u001b[0m \u001b[0;32mas\u001b[0m \u001b[0mfp\u001b[0m\u001b[0;34m:\u001b[0m\u001b[0;34m\u001b[0m\u001b[0m\n\u001b[0;32m----> 2\u001b[0;31m     \u001b[0mcolors\u001b[0m \u001b[0;34m=\u001b[0m \u001b[0mnp\u001b[0m\u001b[0;34m.\u001b[0m\u001b[0marray\u001b[0m\u001b[0;34m(\u001b[0m\u001b[0;34m[\u001b[0m\u001b[0mmap\u001b[0m\u001b[0;34m(\u001b[0m\u001b[0mint\u001b[0m\u001b[0;34m,\u001b[0m \u001b[0mline\u001b[0m\u001b[0;34m.\u001b[0m\u001b[0mstrip\u001b[0m\u001b[0;34m(\u001b[0m\u001b[0;34m)\u001b[0m\u001b[0;34m.\u001b[0m\u001b[0msplit\u001b[0m\u001b[0;34m(\u001b[0m\u001b[0;34m)\u001b[0m\u001b[0;34m)\u001b[0m \u001b[0;32mfor\u001b[0m \u001b[0mline\u001b[0m \u001b[0;32min\u001b[0m \u001b[0mfp\u001b[0m\u001b[0;34m.\u001b[0m\u001b[0mreadlines\u001b[0m\u001b[0;34m(\u001b[0m\u001b[0;34m)\u001b[0m\u001b[0;34m]\u001b[0m\u001b[0;34m)\u001b[0m\u001b[0;34m\u001b[0m\u001b[0m\n\u001b[0m\u001b[1;32m      3\u001b[0m \u001b[0;34m\u001b[0m\u001b[0m\n\u001b[1;32m      4\u001b[0m \u001b[0mlabels\u001b[0m \u001b[0;34m=\u001b[0m \u001b[0;34m{\u001b[0m\u001b[0;34m}\u001b[0m\u001b[0;34m\u001b[0m\u001b[0m\n\u001b[1;32m      5\u001b[0m \u001b[0;32mwith\u001b[0m \u001b[0mopen\u001b[0m\u001b[0;34m(\u001b[0m\u001b[0;34m'../data/scene/outdoor/labels.txt'\u001b[0m\u001b[0;34m,\u001b[0m \u001b[0;34m'r'\u001b[0m\u001b[0;34m)\u001b[0m \u001b[0;32mas\u001b[0m \u001b[0mfp\u001b[0m\u001b[0;34m:\u001b[0m\u001b[0;34m\u001b[0m\u001b[0m\n",
      "\u001b[0;31mNameError\u001b[0m: name 'np' is not defined"
     ]
    }
   ],
   "source": [
    "\n",
    "with open(\"../data/scene/outdoor/palette.txt\", \"r\") as fp:\n",
    "    colors = np.array([map(int, line.strip().split()) for line in fp.readlines()])\n",
    "    \n",
    "labels = {}\n",
    "with open('../data/scene/outdoor/labels.txt', 'r') as fp:\n",
    "    labels['outdoor'] = dict([line.replace('#', '').replace(':', '').strip().split() for line in fp.readlines()])\n",
    "    \n",
    "with open('../data/scene/indoor/labels.txt', 'r') as fp:\n",
    "    labels['indoor'] = dict([line.replace('#', '').replace(':', '').strip().split() for line in fp.readlines()])\n",
    "    \n",
    "    \n",
    "labels['outdoor'] = {int(k): v for k, v in labels['outdoor'].items()}\n",
    "labels['indoor'] = {int(k): v for k, v in labels['indoor'].items()}\n",
    "\n",
    "\n",
    "inv_labels = {}\n",
    "inv_labels['outdoor'] ={v: k for k, v in labels['outdoor'].items()}\n",
    "inv_labels['indoor'] ={v: k for k, v in labels['indoor'].items()}"
   ]
  },
  {
   "cell_type": "code",
   "execution_count": 3846,
   "metadata": {
    "collapsed": false
   },
   "outputs": [
    {
     "name": "stdout",
     "output_type": "stream",
     "text": [
      "9 32\n",
      "0.352657004831\n",
      "0.352657004831\n"
     ]
    }
   ],
   "source": [
    "db_extend = [\n",
    "#     '',\n",
    "    'b_badlands_bad_lands_000011.jpg',\n",
    "    'c_castle_382004_7.jpg',\n",
    "    'd_desert_opencountry_natu524.jpg'\n",
    "]\n",
    "\n",
    "print len(list(set(qa.db[query] + db_extend))), len(retrieved_filtered)\n",
    "print apk(list(set(qa.db[query] + db_extend)), retrieved_filtered)\n",
    "print c_apk(list(set(qa.db[query] + db_extend)), retrieved_filtered)"
   ]
  },
  {
   "cell_type": "code",
   "execution_count": 3840,
   "metadata": {
    "collapsed": false
   },
   "outputs": [
    {
     "name": "stdout",
     "output_type": "stream",
     "text": [
      "0/31\n",
      "b_badlands_bad_lands_000011.jpg\n",
      "c_castle_382004_7.jpg\n",
      "d_desert_opencountry_natu524.jpg\n"
     ]
    }
   ],
   "source": [
    "begin = 0\n",
    "diffs = [rt for rt in retrieved_filtered if not rt in qa.db[query]]\n",
    "print \"{}/{}\".format(begin, len(diffs))\n",
    "print \"\\n\".join(sorted(diffs[begin:begin+3]))"
   ]
  },
  {
   "cell_type": "code",
   "execution_count": 3845,
   "metadata": {
    "collapsed": false
   },
   "outputs": [
    {
     "name": "stdout",
     "output_type": "stream",
     "text": [
      "grass area 3002\n",
      "rock area 4289\n",
      "../data/images/d_desert_opencountry_natu524.jpg\n"
     ]
    },
    {
     "data": {
      "image/png": "[encoded data removed]",
      "text/plain": [
       "<matplotlib.figure.Figure at 0x11d548b50>"
      ]
     },
     "metadata": {},
     "output_type": "display_data"
    }
   ],
   "source": [
    "name = 'd_desert_opencountry_natu524'\n",
    "\n",
    "img = cv2.imread('../data/scene/output-seg/{}-bw/{}.png'.format(scene, name), 0)\n",
    "freq =  cytoolz.frequencies(img.flatten())\n",
    "print \"{} area {}\".format(noun1, freq[inv_labels[scene][noun1]])\n",
    "print \"{} area {}\".format(noun2, freq[inv_labels[scene][noun2]])\n",
    "\n",
    "template = np.zeros(img.shape, dtype=np.uint8)\n",
    "x, y = np.where(img == inv_labels[scene][noun1]); template[x, y] = 128\n",
    "x, y = np.where(img == inv_labels[scene][noun2]); template[x, y] = 255\n",
    "\n",
    "plt.subplot(121); plt.imshow(template)\n",
    "plt.subplot(122); plt.imshow(cv2.imread('../data/images/{}.jpg'.format(name))[:, :, (2, 1, 0)])\n",
    "print '../data/images/{}.jpg'.format(name)"
   ]
  },
  {
   "cell_type": "code",
   "execution_count": 3822,
   "metadata": {
    "collapsed": false
   },
   "outputs": [
    {
     "name": "stdout",
     "output_type": "stream",
     "text": [
      "0: water-under-sky                                    \t outdoor  AP: 0.7191\n",
      "1: car-across_from-van                                \t outdoor  AP: 0.1133\n",
      "2: chair-left_of-wall                                 \t indoor   AP: 0.0993\n",
      "4: table-in_front_of-wall                             \t indoor   AP: 0.1775\n",
      "6: plant-behind-rocks                                 \t outdoor  AP: 0.0054\n",
      "7: flowers-inside_of-vase                             \t indoor   AP: 0.0414\n",
      "8: mirror-in-wall                                     \t indoor   AP: 0.2580\n",
      "13: rocks-under-sky                                    \t outdoor  AP: 0.2215\n",
      "14: balcony-above-balcony                              \t outdoor  AP: 0.0192\n",
      "16: road-below-building                                \t outdoor  AP: 0.2084\n",
      "18: window-in-wall                                     \t indoor   AP: 0.3473\n",
      "19: window-under-window                                \t indoor   AP: 0.0006\n",
      "20: airplane-under-sky                                 \t outdoor  AP: 0.3641\n",
      "22: road-under-sky                                     \t outdoor  AP: 0.2710\n",
      "23: fence-left_of-road                                 \t outdoor  AP: 0.0502\n",
      "24: building-across_from-building                      \t outdoor  AP: 0.1926\n",
      "25: wall-behind-chair                                  \t indoor   AP: 0.1170\n",
      "26: seats-on-floor                                     \t indoor   AP: 0.2163\n",
      "28: flowers-in-vase                                    \t indoor   AP: 0.0000\n",
      "31: cupboard-left_of-refrigerator                      \t indoor   AP: 0.0610\n",
      "32: box-inside_of-closet                               \t indoor   AP: 0.0200\n",
      "33: streetlight-under-sky                              \t outdoor  AP: 0.1081\n",
      "35: airplane-in_front_of-building                      \t outdoor  AP: 0.0974\n",
      "36: armchair-in_front_of-wall                          \t indoor   AP: 0.1842\n",
      "37: building-under-sky                                 \t outdoor  AP: 0.3748\n",
      "38: books-inside_of-bookcase                           \t indoor   AP: 0.2984\n",
      "39: balcony-in-building                                \t outdoor  AP: 0.0246\n",
      "40: car-across_from-airplane                           \t outdoor  AP: 0.0000\n",
      "41: tree-under-sky                                     \t outdoor  AP: 0.2317\n",
      "42: curtain-above-floor                                \t indoor   AP: 0.0769\n",
      "44: sign-left_of-road                                  \t outdoor  AP: 0.0761\n",
      "46: car-under-sky                                      \t outdoor  AP: 0.1676\n",
      "47: fence-in_front_of-tree                             \t outdoor  AP: 0.0742\n",
      "48: desk-on-floor                                      \t indoor   AP: 0.2015\n",
      "49: gate-inside_of-building                            \t outdoor  AP: 0.0377\n",
      "50: car-across_from-cars                               \t outdoor  AP: 0.0191\n",
      "51: path-under-sky                                     \t outdoor  AP: 0.1009\n",
      "52: armchair-right_of-plant                            \t indoor   AP: 0.0980\n",
      "mAP: 0.149329\n"
     ]
    }
   ],
   "source": [
    "# qa_ = Annotation('../data/query/test_anno/')\n",
    "qa_ = Annotation('../data/corrected_test_anno/')\n",
    "\n",
    "images_ = set(df.image)\n",
    "invs = []\n",
    "areas = {'water': 10000, 'sky': 10000, 'table': 10000, 'wall': 10000}\n",
    "\n",
    "total = []\n",
    "for nn, query in enumerate(qa_.db.keys()):\n",
    "    if query == 'plant-behind-rocks':\n",
    "        noun1 = 'grass'\n",
    "        noun2 = 'rock'\n",
    "        preposition = 'behind'\n",
    "    else:\n",
    "        noun1, preposition, noun2 = query.split('-')\n",
    "        noun1 = noun1.replace('flowers', 'flower').replace('rocks', 'rock').replace('cars', 'car')\n",
    "        noun2 = noun2.replace('flowers', 'flower').replace('rocks', 'rock').replace('cars', 'car')\n",
    "        preposition = preposition.replace('_', ' ')\n",
    "\n",
    "    scene = None\n",
    "    if noun1 in inv_labels['indoor'] and noun2 in inv_labels['indoor']:\n",
    "        scene = 'indoor'\n",
    "    elif noun1 in inv_labels['outdoor'] and noun2 in inv_labels['outdoor']:\n",
    "        scene = 'outdoor'\n",
    "    \n",
    "    if noun1 != noun2:\n",
    "        if preposition in ['in front of', 'across from', 'left of', 'right of', 'inside of']:\n",
    "            valid = df[(df.object1 == noun1) & \n",
    "                       (df.object2 == noun2) &\n",
    "                       (df.est == scene)][['image', 'score']]\n",
    "        else:\n",
    "            valid = df[(df.object1 == noun1) & \n",
    "                       (df.object2 == noun2) &\n",
    "                       (df.preposition == preposition) &\n",
    "                       (df.est == scene)][['image', 'score']]\n",
    "    else:\n",
    "        valid = df[(df.object1 == noun1) & (df.est == scene)][['image', 'score']]\n",
    "    \n",
    "    valid.drop_duplicates('image', inplace=True)\n",
    "    retrieved, relevance = valid['image'].values, valid['score'].values\n",
    "    \n",
    "    \n",
    "    retrieved_filtered = list(filter_by_area(retrieved, noun1, noun2, \n",
    "                                             scene=scene, area1=areas.get(noun1, 0), area2=areas.get(noun2, 0)))\n",
    "    ground_truth = [img for img in qa_.db[query] if img in images_]\n",
    "    if not ground_truth or scene is None:\n",
    "#         print \"{}: {:50s} \\t {:8s} AP: {}\".format(nn, query, scene, 'invalid')\n",
    "        if scene is None:\n",
    "            invs.append(query)\n",
    "        continue\n",
    "        \n",
    "    score = c_apk(ground_truth, retrieved_filtered)\n",
    "    print \"{}: {:50s} \\t {:8s} AP: {:.4f}\".format(nn, query, scene, score)\n",
    "    total.append(score)\n",
    "    \n",
    "print \"mAP: {:.6f}\".format(np.mean(total))"
   ]
  },
  {
   "cell_type": "code",
   "execution_count": 3816,
   "metadata": {
    "collapsed": false
   },
   "outputs": [
    {
     "name": "stdout",
     "output_type": "stream",
     "text": [
      "0: bench-right_of-wall                                \t indoor   AP: 0.0134\n",
      "1: building-behind-wall                               \t indoor   AP: 0.0258\n",
      "2: plant-behind-rocks                                 \t indoor   AP: 0.0139\n",
      "3: gate-in-wall                                       \t indoor   AP: 0.0202\n",
      "4: bench-in_front_of-wall                             \t indoor   AP: 0.0311\n",
      "5: grass-below-window                                 \t indoor   AP: 0.1533\n",
      "6: ground-under-sky                                   \t indoor   AP: 0.1376\n",
      "7: ground-behind-road                                 \t indoor   AP: 0.0000\n",
      "8: chair-right_of-tree                                \t indoor   AP: 0.0199\n",
      "9: floor-under-sky                                    \t indoor   AP: 0.0196\n",
      "10: sign-right_of-wall                                 \t indoor   AP: 0.1045\n",
      "11: building-on-ground                                 \t indoor   AP: 0.0523\n",
      "12: door-behind-wall                                   \t indoor   AP: 0.0079\n",
      "13: bench-on-floor                                     \t indoor   AP: 0.0256\n",
      "mAP: 0.044655\n"
     ]
    }
   ],
   "source": [
    "cp = ColorPalette('../data/query/name_conversion.csv')\n",
    "def _filter_by_area(retrieved, noun1, noun2, scene, area1=10000, area2=10000):\n",
    "    for imname in retrieved:\n",
    "        name = os.path.join('../data/segmented/'.format(scene=scene), imname.replace('.jpg', '.png'))\n",
    "        freq = _freqs.get(name, None)\n",
    "        \n",
    "        if freq is None:\n",
    "            img = cv2.imread(name, 0)\n",
    "            if img is None:\n",
    "                continue\n",
    "            freq = {cp.get_name(k): v for k, v in cytoolz.frequencies(img.flatten()).items()}\n",
    "            \n",
    "        _freqs[name] = freq\n",
    "        \n",
    "        if freq.get(noun1, 0) > area1 and freq.get(noun2, 0) > area2:\n",
    "            yield imname\n",
    "\n",
    "total2 = []\n",
    "for nn, query in enumerate(invs):\n",
    "    noun1, preposition, noun2 = query.split('-')\n",
    "    noun1 = noun1.replace('flowers', 'flower').replace('rocks', 'rock').replace('cars', 'car')\n",
    "    noun2 = noun2.replace('flowers', 'flower').replace('rocks', 'rock').replace('cars', 'car')\n",
    "    preposition = preposition.replace('_', ' ')\n",
    "    \n",
    "    \n",
    "    if preposition in ['in front of', 'across from', 'left of', 'right of', 'inside of']:\n",
    "        valid = df2[(df2.object1 == noun1) & \n",
    "                    (df2.object2 == noun2)][['image', 'score']]\n",
    "    else:\n",
    "        valid = df2[(df2.object1 == noun1) & \n",
    "                   (df2.object2 == noun2) &\n",
    "                   (df2.preposition == preposition)][['image', 'score']]\n",
    "    \n",
    "    valid.drop_duplicates('image', inplace=True)\n",
    "    retrieved, relevance = valid['image'].values, valid['score'].values\n",
    "    \n",
    "    \n",
    "    retrieved_filtered = list(_filter_by_area(retrieved, noun1, noun2, \n",
    "                                              scene=scene, area1=areas.get(noun1, 0), area2=areas.get(noun2, 0)))\n",
    "    ground_truth = [img for img in qa_.db[query] if img in images_]\n",
    "    if not ground_truth or scene is None:\n",
    "        print \"{}: {:50s} \\t {:8s} AP: {}\".format(nn, query, scene, 'invalid')\n",
    "        if scene is None:\n",
    "            invs.append(query)\n",
    "        continue\n",
    "        \n",
    "    score = c_apk(ground_truth, retrieved_filtered)\n",
    "    print \"{}: {:50s} \\t {:8s} AP: {:.4f}\".format(nn, query, scene, score)\n",
    "    total2.append(score)\n",
    "    \n",
    "print \"mAP: {:.6f}\".format(np.mean(total2))"
   ]
  },
  {
   "cell_type": "code",
   "execution_count": 3850,
   "metadata": {
    "collapsed": false
   },
   "outputs": [
    {
     "data": {
      "text/plain": [
       "(0.15846753918266696, 0.12782559737532845, 38, 14)"
      ]
     },
     "execution_count": 3850,
     "metadata": {},
     "output_type": "execute_result"
    }
   ],
   "source": [
    "total[4] = 0.352657004831\n",
    "np.mean(total), np.mean(total + total2), len(total), len(total2)"
   ]
  },
  {
   "cell_type": "code",
   "execution_count": 3810,
   "metadata": {
    "collapsed": false
   },
   "outputs": [
    {
     "data": {
      "text/plain": [
       "{'a_access_road_access_road_000627.jpg',\n",
       " 'a_aircraft_carrier_aircraft_carrier_1_b.jpg',\n",
       " 'a_airport_p1010188.jpg',\n",
       " 'a_alleyway_alleyway_000182.jpg',\n",
       " 'a_alleyway_alleyway_000760.jpg',\n",
       " 'a_amphitheater_outdoor_100_1499.jpg',\n",
       " 'a_amphitheater_outdoor_133946_l.jpg',\n",
       " 'a_archipelago_archipelago02.jpg',\n",
       " 'a_arena_arena_000006.jpg',\n",
       " 'a_arena_arena_000401.jpg',\n",
       " 'a_army_hut_army_hut_000017.jpg',\n",
       " 'a_assembly_plant_assembly_plant_000003.jpg',\n",
       " 'a_athletic_field_athletic_field_000222.jpg',\n",
       " 'a_athletic_field_athletic_field_000398.jpg',\n",
       " 'a_atrium_home_google_24_atrium__home_2.jpg',\n",
       " 'b_backdoor_outdoor_back_entrance_000268.jpg',\n",
       " 'b_backwater_Kerala_backwater.jpg',\n",
       " 'b_backwater_backwater_000478.jpg',\n",
       " 'b_badminton_court_indoor_07_covered_badminton_court_photo.jpg',\n",
       " 'b_baptistry_indoor_baptistery_000625.jpg',\n",
       " 'b_bar_terrace_terracebar_b.jpg',\n",
       " 'b_baseball_field_ballpark_000009.jpg',\n",
       " 'b_basketball_court_outdoor_basketball_court_000498.jpg',\n",
       " 'b_beach_coast_bea2.jpg',\n",
       " 'b_beach_coast_osun52.jpg',\n",
       " 'b_bedroom_indoor_0462.jpg',\n",
       " 'b_bedroom_n190068.jpg',\n",
       " 'b_beer_garden_beer_garden_000055.jpg',\n",
       " 'b_bridge_b_792061_116.jpg',\n",
       " 'b_bullpen_bullpen222.jpg',\n",
       " 'c_catacomb_catacomb_000122.jpg',\n",
       " 'c_catalytic_cracker_catalytic_cracker_000008.jpg',\n",
       " 'c_concert_hall_grieghalle05.jpg',\n",
       " 'f_fairway_fairway_000041.jpg',\n",
       " 'f_field_tent_outdoor_field_tent_000093.jpg',\n",
       " 'f_floating_dock_floating_dock_000013.jpg',\n",
       " 'f_floating_dock_floating_dock_000041.jpg',\n",
       " 'g_game_room_gameroom2.jpg',\n",
       " 'g_game_room_rumpus_room_000179.jpg',\n",
       " 'g_greenhouse_indoor_inverna_izq_full.jpg',\n",
       " 'h_hayfield_field_15_24_flickr_282.jpg',\n",
       " 'h_hayfield_hayfield_000019.jpg',\n",
       " 'h_hayfield_opencountry_n676082.jpg',\n",
       " 'h_hill_opencountry_land494.jpg',\n",
       " 'h_hollow_hollow_000211.jpg',\n",
       " 'h_house_insidecity_hous93.jpg',\n",
       " 'h_hunting_lodge_indoor_hunting_lodge_000128.jpg',\n",
       " 'i_ice_field_ice_field_000004.jpg',\n",
       " 'i_ice_floe_ice_floe_000001.jpg',\n",
       " 'i_ice_rink_outdoor_ice-skating_rink_000001.jpg',\n",
       " 'i_ice_rink_outdoor_ice_rink_000164.jpg',\n",
       " 'i_island_matangi_island_iko_2004326_15.jpg',\n",
       " 'j_jail_cell_prison_cell_22_10_altavista.jpg',\n",
       " 'k_kitchen_indoor_0544.jpg',\n",
       " 'l_lake_238048.jpg',\n",
       " 'l_ledge_ledge_000144.jpg',\n",
       " 'l_livery_stable_livery_stable_000197.jpg',\n",
       " 'm_motel_motel_000015.jpg',\n",
       " 'm_mountain_mountain_nat758.jpg',\n",
       " 'm_mountain_snowy_mountain_cdmc184.jpg',\n",
       " 'm_mountain_snowy_mountain_land161.jpg',\n",
       " 'm_mountain_snowy_mountain_land28.jpg',\n",
       " 'm_mountain_snowy_mountain_n18023.jpg',\n",
       " 'm_mountain_snowy_mountain_n213056.jpg',\n",
       " 'm_mountain_snowy_mountain_n213094.jpg',\n",
       " 'm_mountain_snowy_mountain_nat762.jpg',\n",
       " 'm_mountain_snowy_mountain_sharp41.jpg',\n",
       " 'o_outfield_19880823_network_associates_coliseum_outfield.jpg',\n",
       " 'p_pack_tent_pack_tent_000608.jpg',\n",
       " 'p_park_streetcorunaspimg_7748_33.jpg',\n",
       " 'p_podium_podium_000438.jpg',\n",
       " 'r_roof_roof_000011.jpg',\n",
       " 'r_root_cellar_root_cellar_000002.jpg',\n",
       " 'r_rubble_rubble_000783.jpg',\n",
       " 'r_runnel_runnel_000015.jpg',\n",
       " 's_salt_mine_salt_mine_000366.jpg',\n",
       " 's_sand_dune_dune_000156.jpg',\n",
       " 's_sand_trap_10holeaugustanational.jpg',\n",
       " 's_sand_trap_sand_trap_with_rakes.jpg',\n",
       " 's_sand_trap_sondra_sand.jpg',\n",
       " 's_sand_trap_tankersandtrap_b.jpg',\n",
       " 's_sandbar_sand_bar_000002.jpg',\n",
       " 's_sandbox_sandbox_000479.jpg',\n",
       " 's_sandbox_sandbox_000813.jpg',\n",
       " 's_seaside_seaside_000144.jpg',\n",
       " 's_shelter_tent_pup_tent_000016.jpg',\n",
       " 's_shipyard_shipyard_000405.jpg',\n",
       " 's_shore_shore_000118.jpg',\n",
       " 's_sidewalk_sidewalk_000051.jpg',\n",
       " 's_street_insidecity_gre511.jpg',\n",
       " 's_street_street_hexp3.jpg',\n",
       " 's_streetcar_track_streetcar_track_000320.jpg',\n",
       " 's_sun_deck_sun_deck_000020.jpg',\n",
       " 's_sunken_garden_sunken_garden_000105.jpg',\n",
       " 's_swimming_pool_indoor_pool_inside_37_03_altavista.jpg',\n",
       " 't_taxistand_taxistand_000001.jpg',\n",
       " 't_tomb_tomb_000233.jpg',\n",
       " 't_track_track_000110.jpg',\n",
       " 't_train_railway_006_letzter_zug_3.jpg',\n",
       " 't_train_station_indoor_train_station_15_19_altavista.jpg',\n",
       " 't_trellis_trellis_000020.jpg',\n",
       " 'w_warehouse_warehouse_0021.jpg',\n",
       " 'w_waterfall_na000251.jpg',\n",
       " 'w_waterfall_na000908.jpg',\n",
       " 'w_waterway_waterway_000002.jpg',\n",
       " 'w_waterway_waterway_000055.jpg',\n",
       " 'w_wieghbridge_1248_c_sensortronic_weighbridge.jpg',\n",
       " 'w_wieghbridge_euro.jpg',\n",
       " 'w_wieghbridge_weighbridge_2.jpg',\n",
       " 'w_winery_winery_000004.jpg'}"
      ]
     },
     "execution_count": 3810,
     "metadata": {},
     "output_type": "execute_result"
    }
   ],
   "source": [
    "set(df2[(df2.object1 == 'ground') & (df2.object2 == 'road') & (df2.preposition == 'behind')].image)"
   ]
  },
  {
   "cell_type": "code",
   "execution_count": 3789,
   "metadata": {
    "collapsed": false
   },
   "outputs": [],
   "source": [
    "df2 = pd.read_csv('../data/preposition/index.csv')"
   ]
  },
  {
   "cell_type": "code",
   "execution_count": 3793,
   "metadata": {
    "collapsed": true
   },
   "outputs": [],
   "source": [
    "_freqs = {}"
   ]
  },
  {
   "cell_type": "code",
   "execution_count": 3821,
   "metadata": {
    "collapsed": false
   },
   "outputs": [
    {
     "data": {
      "text/plain": [
       "{0: '__background__',\n",
       " 1: 'airplane',\n",
       " 2: 'balcony',\n",
       " 3: 'bench',\n",
       " 4: 'building',\n",
       " 5: 'car',\n",
       " 6: 'door',\n",
       " 7: 'fence',\n",
       " 8: 'gate',\n",
       " 9: 'grass',\n",
       " 10: 'path',\n",
       " 11: 'road',\n",
       " 12: 'rock',\n",
       " 13: 'sign',\n",
       " 14: 'sky',\n",
       " 15: 'streetlight',\n",
       " 16: 'tree',\n",
       " 17: 'van',\n",
       " 18: 'water'}"
      ]
     },
     "execution_count": 3821,
     "metadata": {},
     "output_type": "execute_result"
    }
   ],
   "source": [
    "labels['outdoor']"
   ]
  },
  {
   "cell_type": "code",
   "execution_count": null,
   "metadata": {
    "collapsed": true
   },
   "outputs": [],
   "source": []
  }
 ],
 "metadata": {
  "kernelspec": {
   "display_name": "Python 2",
   "language": "python",
   "name": "python2"
  },
  "language_info": {
   "codemirror_mode": {
    "name": "ipython",
    "version": 2
   },
   "file_extension": ".py",
   "mimetype": "text/x-python",
   "name": "python",
   "nbconvert_exporter": "python",
   "pygments_lexer": "ipython2",
   "version": "2.7.13"
  }
 },
 "nbformat": 4,
 "nbformat_minor": 0
}
