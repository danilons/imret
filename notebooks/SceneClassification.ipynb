{
 "cells": [
  {
   "cell_type": "code",
   "execution_count": 1,
   "metadata": {
    "collapsed": true
   },
   "outputs": [],
   "source": [
    "%matplotlib inline\n",
    "import matplotlib.pyplot as plt\n",
    "import numpy as np\n",
    "import caffe"
   ]
  },
  {
   "cell_type": "code",
   "execution_count": 2,
   "metadata": {
    "collapsed": true
   },
   "outputs": [],
   "source": [
    "import scipy"
   ]
  },
  {
   "cell_type": "code",
   "execution_count": 17,
   "metadata": {
    "collapsed": true
   },
   "outputs": [],
   "source": [
    "net = caffe.Net('../data/scene/scene/deploy.prototxt', \n",
    "                '../data/scene/scene/snapshot_iter_780.caffemodel', caffe.TEST)"
   ]
  },
  {
   "cell_type": "code",
   "execution_count": 12,
   "metadata": {
    "collapsed": true
   },
   "outputs": [],
   "source": [
    "import os\n",
    "import glob\n",
    "import cv2"
   ]
  },
  {
   "cell_type": "code",
   "execution_count": 7,
   "metadata": {
    "collapsed": false
   },
   "outputs": [],
   "source": [
    "from random import shuffle\n",
    "\n",
    "fnames = [('indoor', fname) for fname in glob.glob('../data/scene/test/indoor/*.jpg')] + [('outdoor', fname) for fname in glob.glob('../data/scene/test/outdoor/*.jpg')]\n",
    "shuffle(fnames)"
   ]
  },
  {
   "cell_type": "code",
   "execution_count": 18,
   "metadata": {
    "collapsed": false
   },
   "outputs": [],
   "source": [
    "with open('../data/scene/scene/mean.binaryproto', 'rb') as f:\n",
    "    blob = caffe.proto.caffe_pb2.BlobProto()\n",
    "    blob.MergeFromString(f.read())\n",
    "    mean_image = np.reshape(blob.data, (3, 256, 256))\n",
    "    data_shape = tuple((1, 3, 227, 227))\n",
    "    assert len(data_shape) == 4, 'Bad data shape.'\n",
    "    mean_image = mean_image.astype(np.uint8)\n",
    "    mean_image = mean_image.transpose(1, 2, 0)\n",
    "    shape = list(mean_image.shape)\n",
    "    mean_image = scipy.misc.imresize(mean_image, (data_shape[2], data_shape[3]))\n",
    "    mean_image = mean_image.transpose(2, 0, 1)\n",
    "    mean_image = mean_image.astype('float')\n",
    "\n",
    "\n",
    "transformer = caffe.io.Transformer({'data': net.blobs['data'].data.shape})\n",
    "transformer.set_transpose('data', (2, 0, 1))\n",
    "transformer.set_channel_swap('data', (2, 1, 0))\n",
    "transformer.set_mean('data', mean_image)"
   ]
  },
  {
   "cell_type": "code",
   "execution_count": null,
   "metadata": {
    "collapsed": true
   },
   "outputs": [],
   "source": [
    "predictions = {}"
   ]
  },
  {
   "cell_type": "code",
   "execution_count": 32,
   "metadata": {
    "collapsed": false
   },
   "outputs": [
    {
     "name": "stdout",
     "output_type": "stream",
     "text": [
      "Processed 0/4269\n",
      "Processed 100/4269\n",
      "Processed 200/4269\n",
      "Processed 300/4269\n",
      "Processed 400/4269\n",
      "Processed 500/4269\n",
      "Processed 600/4269\n",
      "Processed 700/4269\n",
      "Processed 800/4269\n",
      "Processed 900/4269\n",
      "Processed 1000/4269\n",
      "Processed 1100/4269\n",
      "Processed 1200/4269\n",
      "Processed 1300/4269\n",
      "Processed 1400/4269\n",
      "Processed 1500/4269\n",
      "Processed 1600/4269\n",
      "Processed 1700/4269\n",
      "Processed 1800/4269\n",
      "Processed 1900/4269\n",
      "Processed 2000/4269\n",
      "Processed 2100/4269\n",
      "Processed 2200/4269\n",
      "Processed 2300/4269\n",
      "Processed 2400/4269\n",
      "Processed 2500/4269\n",
      "Processed 2600/4269\n",
      "Processed 2700/4269\n",
      "Processed 2800/4269\n",
      "Processed 2900/4269\n",
      "Processed 3000/4269\n",
      "Processed 3100/4269\n",
      "Processed 3200/4269\n",
      "Processed 3300/4269\n",
      "Processed 3400/4269\n",
      "Processed 3500/4269\n",
      "Processed 3600/4269\n",
      "Processed 3700/4269\n",
      "Processed 3800/4269\n",
      "Processed 3900/4269\n",
      "Processed 4000/4269\n",
      "Processed 4100/4269\n",
      "Processed 4200/4269\n"
     ]
    }
   ],
   "source": [
    "labels = ['indoor', 'outdoor']\n",
    "y_pred = []\n",
    "y_true = []\n",
    "for nn, (label, fname) in enumerate(fnames):\n",
    "    if nn % 100 == 0:\n",
    "        print \"Processed {}/{}\".format(nn, len(fnames))\n",
    "        \n",
    "    if os.path.basename(fname) in predictions:\n",
    "        continue\n",
    "        \n",
    "    image = cv2.imread(fname)\n",
    "    if image is None:\n",
    "        continue\n",
    "        \n",
    "    transformed_image = transformer.preprocess('data', image[:, :, (2, 1, 0)])\n",
    "    net.blobs['data'].data[0] = transformed_image\n",
    "    output = net.forward()\n",
    "    y_true.append(labels.index(label))\n",
    "    y_pred.append(output['softmax'].argmax())\n",
    "    \n",
    "    predictions[os.path.basename(fname)] = labels[output['softmax'].argmax()]"
   ]
  },
  {
   "cell_type": "code",
   "execution_count": 35,
   "metadata": {
    "collapsed": false
   },
   "outputs": [],
   "source": [
    "import json\n",
    "with open('../data/scene/scene.json', 'w') as fp:\n",
    "    fp.write(json.dumps(predictions))"
   ]
  },
  {
   "cell_type": "code",
   "execution_count": 36,
   "metadata": {
    "collapsed": true
   },
   "outputs": [],
   "source": [
    "from sklearn.metrics import classification_report"
   ]
  },
  {
   "cell_type": "code",
   "execution_count": 42,
   "metadata": {
    "collapsed": false
   },
   "outputs": [],
   "source": [
    "y_true = []\n",
    "y_pred = []\n",
    "for nn, (label, fname) in enumerate(fnames):\n",
    "    if os.path.basename(fname) not in predictions:\n",
    "        continue\n",
    "    y_true.append(labels.index(label))\n",
    "    y_pred.append(labels.index(predictions[os.path.basename(fname)]))"
   ]
  },
  {
   "cell_type": "code",
   "execution_count": 43,
   "metadata": {
    "collapsed": false
   },
   "outputs": [
    {
     "name": "stdout",
     "output_type": "stream",
     "text": [
      "             precision    recall  f1-score   support\n",
      "\n",
      "     indoor       0.86      0.84      0.85      1829\n",
      "    outdoor       0.88      0.90      0.89      2439\n",
      "\n",
      "avg / total       0.88      0.88      0.88      4268\n",
      "\n"
     ]
    }
   ],
   "source": [
    "print classification_report(y_true, y_pred, target_names=labels)"
   ]
  },
  {
   "cell_type": "code",
   "execution_count": null,
   "metadata": {
    "collapsed": true
   },
   "outputs": [],
   "source": []
  }
 ],
 "metadata": {
  "kernelspec": {
   "display_name": "Python 2",
   "language": "python",
   "name": "python2"
  },
  "language_info": {
   "codemirror_mode": {
    "name": "ipython",
    "version": 2
   },
   "file_extension": ".py",
   "mimetype": "text/x-python",
   "name": "python",
   "nbconvert_exporter": "python",
   "pygments_lexer": "ipython2",
   "version": "2.7.13"
  }
 },
 "nbformat": 4,
 "nbformat_minor": 0
}
